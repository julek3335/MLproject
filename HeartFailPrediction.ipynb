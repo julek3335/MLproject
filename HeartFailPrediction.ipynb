{
 "cells": [
  {
   "cell_type": "code",
   "execution_count": 44,
   "metadata": {},
   "outputs": [],
   "source": [
    "import pandas as pd\n",
    "import seaborn as sn\n",
    "import matplotlib.pyplot as plt\n",
    "import numpy as np"
   ]
  },
  {
   "cell_type": "code",
   "execution_count": 3,
   "metadata": {},
   "outputs": [
    {
     "data": {
      "text/html": [
       "<div>\n",
       "<style scoped>\n",
       "    .dataframe tbody tr th:only-of-type {\n",
       "        vertical-align: middle;\n",
       "    }\n",
       "\n",
       "    .dataframe tbody tr th {\n",
       "        vertical-align: top;\n",
       "    }\n",
       "\n",
       "    .dataframe thead th {\n",
       "        text-align: right;\n",
       "    }\n",
       "</style>\n",
       "<table border=\"1\" class=\"dataframe\">\n",
       "  <thead>\n",
       "    <tr style=\"text-align: right;\">\n",
       "      <th></th>\n",
       "      <th>age</th>\n",
       "      <th>anaemia</th>\n",
       "      <th>creatinine_phosphokinase</th>\n",
       "      <th>diabetes</th>\n",
       "      <th>ejection_fraction</th>\n",
       "      <th>high_blood_pressure</th>\n",
       "      <th>platelets</th>\n",
       "      <th>serum_creatinine</th>\n",
       "      <th>serum_sodium</th>\n",
       "      <th>sex</th>\n",
       "      <th>smoking</th>\n",
       "      <th>time</th>\n",
       "      <th>DEATH_EVENT</th>\n",
       "    </tr>\n",
       "  </thead>\n",
       "  <tbody>\n",
       "    <tr>\n",
       "      <th>0</th>\n",
       "      <td>75.0</td>\n",
       "      <td>0</td>\n",
       "      <td>582</td>\n",
       "      <td>0</td>\n",
       "      <td>20</td>\n",
       "      <td>1</td>\n",
       "      <td>265000.00</td>\n",
       "      <td>1.9</td>\n",
       "      <td>130</td>\n",
       "      <td>1</td>\n",
       "      <td>0</td>\n",
       "      <td>4</td>\n",
       "      <td>1</td>\n",
       "    </tr>\n",
       "    <tr>\n",
       "      <th>1</th>\n",
       "      <td>55.0</td>\n",
       "      <td>0</td>\n",
       "      <td>7861</td>\n",
       "      <td>0</td>\n",
       "      <td>38</td>\n",
       "      <td>0</td>\n",
       "      <td>263358.03</td>\n",
       "      <td>1.1</td>\n",
       "      <td>136</td>\n",
       "      <td>1</td>\n",
       "      <td>0</td>\n",
       "      <td>6</td>\n",
       "      <td>1</td>\n",
       "    </tr>\n",
       "    <tr>\n",
       "      <th>2</th>\n",
       "      <td>65.0</td>\n",
       "      <td>0</td>\n",
       "      <td>146</td>\n",
       "      <td>0</td>\n",
       "      <td>20</td>\n",
       "      <td>0</td>\n",
       "      <td>162000.00</td>\n",
       "      <td>1.3</td>\n",
       "      <td>129</td>\n",
       "      <td>1</td>\n",
       "      <td>1</td>\n",
       "      <td>7</td>\n",
       "      <td>1</td>\n",
       "    </tr>\n",
       "    <tr>\n",
       "      <th>3</th>\n",
       "      <td>50.0</td>\n",
       "      <td>1</td>\n",
       "      <td>111</td>\n",
       "      <td>0</td>\n",
       "      <td>20</td>\n",
       "      <td>0</td>\n",
       "      <td>210000.00</td>\n",
       "      <td>1.9</td>\n",
       "      <td>137</td>\n",
       "      <td>1</td>\n",
       "      <td>0</td>\n",
       "      <td>7</td>\n",
       "      <td>1</td>\n",
       "    </tr>\n",
       "    <tr>\n",
       "      <th>4</th>\n",
       "      <td>65.0</td>\n",
       "      <td>1</td>\n",
       "      <td>160</td>\n",
       "      <td>1</td>\n",
       "      <td>20</td>\n",
       "      <td>0</td>\n",
       "      <td>327000.00</td>\n",
       "      <td>2.7</td>\n",
       "      <td>116</td>\n",
       "      <td>0</td>\n",
       "      <td>0</td>\n",
       "      <td>8</td>\n",
       "      <td>1</td>\n",
       "    </tr>\n",
       "  </tbody>\n",
       "</table>\n",
       "</div>"
      ],
      "text/plain": [
       "    age  anaemia  creatinine_phosphokinase  diabetes  ejection_fraction  \\\n",
       "0  75.0        0                       582         0                 20   \n",
       "1  55.0        0                      7861         0                 38   \n",
       "2  65.0        0                       146         0                 20   \n",
       "3  50.0        1                       111         0                 20   \n",
       "4  65.0        1                       160         1                 20   \n",
       "\n",
       "   high_blood_pressure  platelets  serum_creatinine  serum_sodium  sex  \\\n",
       "0                    1  265000.00               1.9           130    1   \n",
       "1                    0  263358.03               1.1           136    1   \n",
       "2                    0  162000.00               1.3           129    1   \n",
       "3                    0  210000.00               1.9           137    1   \n",
       "4                    0  327000.00               2.7           116    0   \n",
       "\n",
       "   smoking  time  DEATH_EVENT  \n",
       "0        0     4            1  \n",
       "1        0     6            1  \n",
       "2        1     7            1  \n",
       "3        0     7            1  \n",
       "4        0     8            1  "
      ]
     },
     "execution_count": 3,
     "metadata": {},
     "output_type": "execute_result"
    }
   ],
   "source": [
    "data = pd.read_csv('heart_failure_clinical_records_dataset.csv')\n",
    "data.head()"
   ]
  },
  {
   "cell_type": "code",
   "execution_count": null,
   "metadata": {},
   "outputs": [],
   "source": []
  },
  {
   "cell_type": "code",
   "execution_count": 4,
   "metadata": {},
   "outputs": [
    {
     "data": {
      "text/plain": [
       "age                         0\n",
       "anaemia                     0\n",
       "creatinine_phosphokinase    0\n",
       "diabetes                    0\n",
       "ejection_fraction           0\n",
       "high_blood_pressure         0\n",
       "platelets                   0\n",
       "serum_creatinine            0\n",
       "serum_sodium                0\n",
       "sex                         0\n",
       "smoking                     0\n",
       "time                        0\n",
       "DEATH_EVENT                 0\n",
       "dtype: int64"
      ]
     },
     "execution_count": 4,
     "metadata": {},
     "output_type": "execute_result"
    }
   ],
   "source": [
    "data.isnull().sum()"
   ]
  },
  {
   "cell_type": "code",
   "execution_count": 5,
   "metadata": {},
   "outputs": [
    {
     "name": "stdout",
     "output_type": "stream",
     "text": [
      "(299, 13)\n"
     ]
    }
   ],
   "source": [
    "print(data.shape)"
   ]
  },
  {
   "cell_type": "code",
   "execution_count": 6,
   "metadata": {},
   "outputs": [],
   "source": [
    "data['age'] = data['age'].astype(int)\n",
    "data['platelets'] = data['platelets'].astype(int)"
   ]
  },
  {
   "cell_type": "code",
   "execution_count": 8,
   "metadata": {},
   "outputs": [],
   "source": [
    "dataForPlot = data[['age','creatinine_phosphokinase','ejection_fraction','platelets','serum_creatinine','serum_sodium']]"
   ]
  },
  {
   "cell_type": "code",
   "execution_count": 9,
   "metadata": {},
   "outputs": [
    {
     "name": "stdout",
     "output_type": "stream",
     "text": [
      "age\n"
     ]
    },
    {
     "data": {
      "image/png": "[encoded data removed]",
      "text/plain": [
       "<Figure size 432x288 with 1 Axes>"
      ]
     },
     "metadata": {
      "needs_background": "light"
     },
     "output_type": "display_data"
    },
    {
     "name": "stdout",
     "output_type": "stream",
     "text": [
      "creatinine_phosphokinase\n"
     ]
    },
    {
     "data": {
      "image/png": "[encoded data removed]",
      "text/plain": [
       "<Figure size 432x288 with 1 Axes>"
      ]
     },
     "metadata": {
      "needs_background": "light"
     },
     "output_type": "display_data"
    },
    {
     "name": "stdout",
     "output_type": "stream",
     "text": [
      "ejection_fraction\n"
     ]
    },
    {
     "data": {
      "image/png": "[encoded data removed]",
      "text/plain": [
       "<Figure size 432x288 with 1 Axes>"
      ]
     },
     "metadata": {
      "needs_background": "light"
     },
     "output_type": "display_data"
    },
    {
     "name": "stdout",
     "output_type": "stream",
     "text": [
      "platelets\n"
     ]
    },
    {
     "data": {
      "image/png": "[encoded data removed]",
      "text/plain": [
       "<Figure size 432x288 with 1 Axes>"
      ]
     },
     "metadata": {
      "needs_background": "light"
     },
     "output_type": "display_data"
    },
    {
     "name": "stdout",
     "output_type": "stream",
     "text": [
      "serum_creatinine\n"
     ]
    },
    {
     "data": {
      "image/png": "[encoded data removed]",
      "text/plain": [
       "<Figure size 432x288 with 1 Axes>"
      ]
     },
     "metadata": {
      "needs_background": "light"
     },
     "output_type": "display_data"
    },
    {
     "name": "stdout",
     "output_type": "stream",
     "text": [
      "serum_sodium\n"
     ]
    },
    {
     "data": {
      "image/png": "[encoded data removed]",
      "text/plain": [
       "<Figure size 432x288 with 1 Axes>"
      ]
     },
     "metadata": {
      "needs_background": "light"
     },
     "output_type": "display_data"
    }
   ],
   "source": [
    "for i in dataForPlot.keys():\n",
    "  dataForPlot[i].hist()\n",
    "  print(i)\n",
    "  plt.show()"
   ]
  },
  {
   "cell_type": "code",
   "execution_count": 10,
   "metadata": {},
   "outputs": [],
   "source": [
    "#zliczenie plci\n",
    "Male = 0\n",
    "Female = 0\n",
    "for x in data['sex']:\n",
    "    if( x == 1):\n",
    "        Male+=1\n",
    "    else:\n",
    "        Female+=1\n",
    "\n",
    "#palaczy\n",
    "smoker = 0\n",
    "noSmoker = 0\n",
    "for x in data['smoking']:\n",
    "    if( x == 1):\n",
    "        smoker+=1\n",
    "    else:\n",
    "        noSmoker+=1\n",
    "\n",
    "#anemia\n",
    "anaemia = 0\n",
    "noAnaemia = 0\n",
    "for x in data['anaemia']:\n",
    "    if( x == 1):\n",
    "        anaemia+=1\n",
    "    else:\n",
    "        noAnaemia+=1\n",
    "\n",
    "#diabetes\n",
    "diabetes = 0\n",
    "noDiabetes = 0\n",
    "for x in data['diabetes']:\n",
    "    if( x == 1):\n",
    "        diabetes+=1\n",
    "    else:\n",
    "        noDiabetes+=1\n",
    "\n",
    "#cisnienie\n",
    "highBloodPressure = 0\n",
    "noHighBloodPressure = 0\n",
    "for x in data['high_blood_pressure']:\n",
    "    if( x == 1):\n",
    "        highBloodPressure+=1\n",
    "    else:\n",
    "        noHighBloodPressure+=1\n",
    "\n",
    "\n",
    "#DEATH_EVENT\n",
    "deathEvent = 0\n",
    "noDeathEvent = 0\n",
    "for x in data['DEATH_EVENT']:\n",
    "    if( x == 1):\n",
    "        deathEvent+=1\n",
    "    else:\n",
    "        noDeathEvent+=1"
   ]
  },
  {
   "cell_type": "code",
   "execution_count": 11,
   "metadata": {},
   "outputs": [
    {
     "data": {
      "image/png": "[encoded data removed]",
      "text/plain": [
       "<Figure size 432x288 with 1 Axes>"
      ]
     },
     "metadata": {},
     "output_type": "display_data"
    },
    {
     "data": {
      "image/png": "[encoded data removed]",
      "text/plain": [
       "<Figure size 432x288 with 1 Axes>"
      ]
     },
     "metadata": {},
     "output_type": "display_data"
    },
    {
     "data": {
      "image/png": "[encoded data removed]",
      "text/plain": [
       "<Figure size 432x288 with 1 Axes>"
      ]
     },
     "metadata": {},
     "output_type": "display_data"
    },
    {
     "data": {
      "image/png": "[encoded data removed]",
      "text/plain": [
       "<Figure size 432x288 with 1 Axes>"
      ]
     },
     "metadata": {},
     "output_type": "display_data"
    },
    {
     "data": {
      "image/png": "[encoded data removed]",
      "text/plain": [
       "<Figure size 432x288 with 1 Axes>"
      ]
     },
     "metadata": {},
     "output_type": "display_data"
    },
    {
     "data": {
      "image/png": "[encoded data removed]",
      "text/plain": [
       "<Figure size 432x288 with 1 Axes>"
      ]
     },
     "metadata": {},
     "output_type": "display_data"
    }
   ],
   "source": [
    "labels = 'deathEvent', 'no death event'\n",
    "sizes = [deathEvent, noDeathEvent]\n",
    "\n",
    "fig1, ax1 = plt.subplots()\n",
    "explode = (0, 0.1)\n",
    "ax1.pie(sizes, explode=explode, labels=labels, autopct='%1.f%%', startangle=90)\n",
    "ax1.axis('equal')  # Equal aspect ratio ensures that pie is drawn as a circle.\n",
    "\n",
    "plt.show()\n",
    "\n",
    "labels = 'high blood pressure', 'non high blood pressure'\n",
    "sizes = [highBloodPressure, noHighBloodPressure]\n",
    "\n",
    "fig1, ax1 = plt.subplots()\n",
    "ax1.pie(sizes, explode=explode, labels=labels, autopct='%1.f%%', startangle=90)\n",
    "ax1.axis('equal')  # Equal aspect ratio ensures that pie is drawn as a circle.\n",
    "\n",
    "plt.show()\n",
    "\n",
    "\n",
    "labels = 'diabetes', 'non diabetes'\n",
    "sizes = [diabetes, noDiabetes]\n",
    "\n",
    "fig1, ax1 = plt.subplots()\n",
    "ax1.pie(sizes, explode=explode, labels=labels, autopct='%1.f%%', startangle=90)\n",
    "ax1.axis('equal')  # Equal aspect ratio ensures that pie is drawn as a circle.\n",
    "\n",
    "plt.show()\n",
    "\n",
    "\n",
    "labels = 'anaemia', 'non anaemia'\n",
    "sizes = [anaemia, noAnaemia]\n",
    "\n",
    "fig1, ax1 = plt.subplots()\n",
    "ax1.pie(sizes, explode=explode, labels=labels, autopct='%1.f%%', startangle=90)\n",
    "ax1.axis('equal')  # Equal aspect ratio ensures that pie is drawn as a circle.\n",
    "\n",
    "plt.show()\n",
    "\n",
    "#rozklad palaczy\n",
    "labels = 'smoker', 'non smoker'\n",
    "sizes = [smoker, noSmoker]\n",
    "\n",
    "fig1, ax1 = plt.subplots()\n",
    "ax1.pie(sizes, explode=explode, labels=labels, autopct='%1.f%%', startangle=90)\n",
    "ax1.axis('equal')  # Equal aspect ratio ensures that pie is drawn as a circle.\n",
    "\n",
    "plt.show()\n",
    "\n",
    "#rozklad po wieku \n",
    "labels = 'Male', 'Female'\n",
    "sizes = [Male, Female]\n",
    "\n",
    "fig1, ax1 = plt.subplots()\n",
    "ax1.pie(sizes, explode=explode, labels=labels, autopct='%1.f%%',\n",
    "        shadow=True, startangle=90)\n",
    "ax1.axis('equal')  # Equal aspect ratio ensures that pie is drawn as a circle.\n",
    "\n",
    "plt.show()"
   ]
  },
  {
   "cell_type": "code",
   "execution_count": 12,
   "metadata": {},
   "outputs": [
    {
     "data": {
      "image/png": "[encoded data removed]",
      "text/plain": [
       "<Figure size 1152x720 with 2 Axes>"
      ]
     },
     "metadata": {
      "needs_background": "light"
     },
     "output_type": "display_data"
    }
   ],
   "source": [
    "corrMatrix = data.corr()\n",
    "plt.figure(figsize=(16,10))\n",
    "corrMatrix = data.corr()\n",
    "sn.heatmap(corrMatrix, annot=True)\n",
    "plt.show()"
   ]
  },
  {
   "cell_type": "code",
   "execution_count": 13,
   "metadata": {},
   "outputs": [
    {
     "data": {
      "image/png": "[encoded data removed]",
      "text/plain": [
       "<Figure size 432x288 with 1 Axes>"
      ]
     },
     "metadata": {
      "needs_background": "light"
     },
     "output_type": "display_data"
    }
   ],
   "source": [
    "sn.boxplot(x = data.ejection_fraction, color = 'teal')\n",
    "plt.show()"
   ]
  },
  {
   "cell_type": "code",
   "execution_count": 14,
   "metadata": {},
   "outputs": [],
   "source": [
    "#data = data[data['ejection_fraction']<70]"
   ]
  },
  {
   "cell_type": "code",
   "execution_count": 15,
   "metadata": {},
   "outputs": [
    {
     "data": {
      "image/png": "[encoded data removed]",
      "text/plain": [
       "<Figure size 432x288 with 1 Axes>"
      ]
     },
     "metadata": {
      "needs_background": "light"
     },
     "output_type": "display_data"
    }
   ],
   "source": [
    "sn.boxplot(x=data.time, color = 'teal')\n",
    "plt.show()"
   ]
  },
  {
   "cell_type": "code",
   "execution_count": 16,
   "metadata": {},
   "outputs": [
    {
     "data": {
      "image/png": "[encoded data removed]",
      "text/plain": [
       "<Figure size 432x288 with 1 Axes>"
      ]
     },
     "metadata": {
      "needs_background": "light"
     },
     "output_type": "display_data"
    }
   ],
   "source": [
    "sn.boxplot(x=data.serum_creatinine, color = 'teal')\n",
    "plt.show()"
   ]
  },
  {
   "cell_type": "code",
   "execution_count": 17,
   "metadata": {},
   "outputs": [],
   "source": [
    "#podzielnie danych"
   ]
  },
  {
   "cell_type": "code",
   "execution_count": 18,
   "metadata": {},
   "outputs": [],
   "source": [
    "from sklearn.model_selection import train_test_split"
   ]
  },
  {
   "cell_type": "code",
   "execution_count": 19,
   "metadata": {},
   "outputs": [],
   "source": [
    "Features = ['time','ejection_fraction','serum_creatinine']\n",
    "x = data[Features]\n",
    "y = data[\"DEATH_EVENT\"]\n",
    "x_train,x_test,y_train,y_test = train_test_split(x,y, test_size=0.2, random_state=2)"
   ]
  },
  {
   "cell_type": "code",
   "execution_count": 20,
   "metadata": {},
   "outputs": [],
   "source": [
    "#drzewo decyzyjne"
   ]
  },
  {
   "cell_type": "code",
   "execution_count": 22,
   "metadata": {},
   "outputs": [],
   "source": [
    "accuracy_list = []"
   ]
  },
  {
   "cell_type": "code",
   "execution_count": 23,
   "metadata": {},
   "outputs": [],
   "source": [
    "from sklearn.metrics import precision_recall_fscore_support\n",
    "from sklearn.metrics import classification_report, confusion_matrix, accuracy_score"
   ]
  },
  {
   "cell_type": "code",
   "execution_count": 24,
   "metadata": {},
   "outputs": [],
   "source": [
    "from sklearn import tree\n",
    "clf = tree.DecisionTreeClassifier()\n",
    "clf.fit(x_train, y_train)\n",
    "t_pred = clf.predict(x_test)\n",
    "t_acc = accuracy_score(y_test, t_pred)\n",
    "\n",
    "accuracy_list.append(100*t_acc)"
   ]
  },
  {
   "cell_type": "code",
   "execution_count": 28,
   "metadata": {},
   "outputs": [
    {
     "name": "stdout",
     "output_type": "stream",
     "text": [
      "85.0 %\n"
     ]
    }
   ],
   "source": [
    "print(100*t_acc,\"%\")"
   ]
  },
  {
   "cell_type": "code",
   "execution_count": 29,
   "metadata": {},
   "outputs": [
    {
     "name": "stdout",
     "output_type": "stream",
     "text": [
      "              precision    recall  f1-score   support\n",
      "\n",
      "           0       0.89      0.91      0.90        43\n",
      "           1       0.75      0.71      0.73        17\n",
      "\n",
      "    accuracy                           0.85        60\n",
      "   macro avg       0.82      0.81      0.81        60\n",
      "weighted avg       0.85      0.85      0.85        60\n",
      "\n"
     ]
    }
   ],
   "source": [
    "print(classification_report(y_test,t_pred))"
   ]
  },
  {
   "cell_type": "code",
   "execution_count": 30,
   "metadata": {},
   "outputs": [
    {
     "data": {
      "text/plain": [
       "<AxesSubplot:>"
      ]
     },
     "execution_count": 30,
     "metadata": {},
     "output_type": "execute_result"
    },
    {
     "data": {
      "image/png": "[encoded data removed]",
      "text/plain": [
       "<Figure size 432x288 with 2 Axes>"
      ]
     },
     "metadata": {
      "needs_background": "light"
     },
     "output_type": "display_data"
    }
   ],
   "source": [
    "sn.heatmap(confusion_matrix(y_test,t_pred),annot=True, cmap='binary',center=0)"
   ]
  },
  {
   "cell_type": "code",
   "execution_count": 31,
   "metadata": {},
   "outputs": [],
   "source": [
    "#Logistic Rregresion"
   ]
  },
  {
   "cell_type": "code",
   "execution_count": 32,
   "metadata": {},
   "outputs": [],
   "source": [
    "from sklearn.datasets import load_iris\n",
    "from sklearn.linear_model import LogisticRegression"
   ]
  },
  {
   "cell_type": "code",
   "execution_count": 33,
   "metadata": {},
   "outputs": [],
   "source": [
    "log_reg = LogisticRegression()\n",
    "log_reg.fit(x_train, y_train)\n",
    "log_reg_pred = log_reg.predict(x_test)\n",
    "log_reg_acc = accuracy_score(y_test, log_reg_pred)\n",
    "accuracy_list.append(100*log_reg_acc)"
   ]
  },
  {
   "cell_type": "code",
   "execution_count": 34,
   "metadata": {},
   "outputs": [
    {
     "name": "stdout",
     "output_type": "stream",
     "text": [
      "90.0 %\n"
     ]
    }
   ],
   "source": [
    "print(100 *log_reg_acc,\"%\")"
   ]
  },
  {
   "cell_type": "code",
   "execution_count": 35,
   "metadata": {},
   "outputs": [
    {
     "name": "stdout",
     "output_type": "stream",
     "text": [
      "              precision    recall  f1-score   support\n",
      "\n",
      "           0       0.91      0.95      0.93        43\n",
      "           1       0.87      0.76      0.81        17\n",
      "\n",
      "    accuracy                           0.90        60\n",
      "   macro avg       0.89      0.86      0.87        60\n",
      "weighted avg       0.90      0.90      0.90        60\n",
      "\n"
     ]
    }
   ],
   "source": [
    "print(classification_report(y_test,log_reg_pred))"
   ]
  },
  {
   "cell_type": "code",
   "execution_count": 36,
   "metadata": {},
   "outputs": [
    {
     "data": {
      "text/plain": [
       "<AxesSubplot:>"
      ]
     },
     "execution_count": 36,
     "metadata": {},
     "output_type": "execute_result"
    },
    {
     "data": {
      "image/png": "[encoded data removed]",
      "text/plain": [
       "<Figure size 432x288 with 2 Axes>"
      ]
     },
     "metadata": {
      "needs_background": "light"
     },
     "output_type": "display_data"
    }
   ],
   "source": [
    "sn.heatmap(confusion_matrix(y_test,log_reg_pred),annot=True, cmap='binary',center=0)"
   ]
  },
  {
   "cell_type": "code",
   "execution_count": 37,
   "metadata": {},
   "outputs": [],
   "source": [
    "#KNeighborsClassifier"
   ]
  },
  {
   "cell_type": "code",
   "execution_count": 38,
   "metadata": {},
   "outputs": [],
   "source": [
    "from sklearn.neighbors import KNeighborsClassifier"
   ]
  },
  {
   "cell_type": "code",
   "execution_count": 39,
   "metadata": {},
   "outputs": [],
   "source": [
    "kn_clf = KNeighborsClassifier(n_neighbors=6)\n",
    "kn_clf.fit(x_train, y_train)\n",
    "kn_pred = kn_clf.predict(x_test)\n",
    "kn_acc = accuracy_score(y_test, kn_pred)\n",
    "accuracy_list.append(100*kn_acc)"
   ]
  },
  {
   "cell_type": "code",
   "execution_count": 40,
   "metadata": {},
   "outputs": [
    {
     "name": "stdout",
     "output_type": "stream",
     "text": [
      "91.66666666666666 %\n"
     ]
    }
   ],
   "source": [
    "print(100*kn_acc,\"%\")"
   ]
  },
  {
   "cell_type": "code",
   "execution_count": 41,
   "metadata": {},
   "outputs": [
    {
     "name": "stdout",
     "output_type": "stream",
     "text": [
      "              precision    recall  f1-score   support\n",
      "\n",
      "           0       0.90      1.00      0.95        43\n",
      "           1       1.00      0.71      0.83        17\n",
      "\n",
      "    accuracy                           0.92        60\n",
      "   macro avg       0.95      0.85      0.89        60\n",
      "weighted avg       0.93      0.92      0.91        60\n",
      "\n"
     ]
    }
   ],
   "source": [
    "print(classification_report(y_test, kn_pred))"
   ]
  },
  {
   "cell_type": "code",
   "execution_count": 42,
   "metadata": {},
   "outputs": [
    {
     "data": {
      "text/plain": [
       "<AxesSubplot:>"
      ]
     },
     "execution_count": 42,
     "metadata": {},
     "output_type": "execute_result"
    },
    {
     "data": {
      "image/png": "[encoded data removed]",
      "text/plain": [
       "<Figure size 432x288 with 2 Axes>"
      ]
     },
     "metadata": {
      "needs_background": "light"
     },
     "output_type": "display_data"
    }
   ],
   "source": [
    "sn.heatmap(confusion_matrix(y_test,kn_pred),annot=True, cmap='binary',center=0)"
   ]
  },
  {
   "cell_type": "code",
   "execution_count": 43,
   "metadata": {},
   "outputs": [],
   "source": [
    "#tf.keras.models.Sequential()"
   ]
  },
  {
   "cell_type": "code",
   "execution_count": 45,
   "metadata": {},
   "outputs": [],
   "source": [
    "import tensorflow as tf\n",
    "np.random.seed(0)\n",
    "# Initialising the ANN\n",
    "\n",
    "ann = tf.keras.models.Sequential()"
   ]
  },
  {
   "cell_type": "code",
   "execution_count": 46,
   "metadata": {},
   "outputs": [],
   "source": [
    "ann.add(tf.keras.layers.Dense(units = 7, activation = 'relu'))\n",
    "ann.add(tf.keras.layers.Dense(units = 7, activation = 'relu'))\n",
    "ann.add(tf.keras.layers.Dense(units = 7, activation = 'relu'))\n",
    "ann.add(tf.keras.layers.Dense(units = 7, activation = 'relu'))\n",
    "ann.add(tf.keras.layers.Dense(units = 1, activation = 'sigmoid'))\n",
    "ann.compile(optimizer = 'adam', loss = 'binary_crossentropy' , metrics = ['accuracy'] )"
   ]
  },
  {
   "cell_type": "code",
   "execution_count": 47,
   "metadata": {},
   "outputs": [
    {
     "name": "stdout",
     "output_type": "stream",
     "text": [
      "Epoch 1/100\n",
      "WARNING:tensorflow:Layer dense is casting an input tensor from dtype float64 to the layer's dtype of float32, which is new behavior in TensorFlow 2.  The layer has dtype float32 because it's dtype defaults to floatx.\n",
      "\n",
      "If you intended to run this layer in float32, you can safely ignore this warning. If in doubt, this warning is likely only an issue if you are porting a TensorFlow 1.X model to TensorFlow 2.\n",
      "\n",
      "To change all layers to have dtype float64 by default, call `tf.keras.backend.set_floatx('float64')`. To change just this layer, pass dtype='float64' to the layer constructor. If you are the author of this layer, you can disable autocasting by passing autocast=False to the base Layer constructor.\n",
      "\n",
      "8/8 [==============================] - 0s 14ms/step - loss: 2.4205 - accuracy: 0.3305\n",
      "Epoch 2/100\n",
      "8/8 [==============================] - 0s 5ms/step - loss: 1.9393 - accuracy: 0.3305\n",
      "Epoch 3/100\n",
      "8/8 [==============================] - 0s 2ms/step - loss: 1.5513 - accuracy: 0.3305\n",
      "Epoch 4/100\n",
      "8/8 [==============================] - 0s 3ms/step - loss: 1.2850 - accuracy: 0.3305\n",
      "Epoch 5/100\n",
      "8/8 [==============================] - 0s 2ms/step - loss: 1.0919 - accuracy: 0.3305\n",
      "Epoch 6/100\n",
      "8/8 [==============================] - 0s 2ms/step - loss: 0.9516 - accuracy: 0.3305\n",
      "Epoch 7/100\n",
      "8/8 [==============================] - 0s 2ms/step - loss: 0.8579 - accuracy: 0.3222\n",
      "Epoch 8/100\n",
      "8/8 [==============================] - 0s 2ms/step - loss: 0.7887 - accuracy: 0.3222\n",
      "Epoch 9/100\n",
      "8/8 [==============================] - 0s 3ms/step - loss: 0.7498 - accuracy: 0.3222\n",
      "Epoch 10/100\n",
      "8/8 [==============================] - 0s 2ms/step - loss: 0.7213 - accuracy: 0.2678\n",
      "Epoch 11/100\n",
      "8/8 [==============================] - 0s 2ms/step - loss: 0.6995 - accuracy: 0.4184\n",
      "Epoch 12/100\n",
      "8/8 [==============================] - 0s 4ms/step - loss: 0.6758 - accuracy: 0.7448\n",
      "Epoch 13/100\n",
      "8/8 [==============================] - 0s 2ms/step - loss: 0.6593 - accuracy: 0.7531\n",
      "Epoch 14/100\n",
      "8/8 [==============================] - 0s 6ms/step - loss: 0.6465 - accuracy: 0.7573\n",
      "Epoch 15/100\n",
      "8/8 [==============================] - 0s 3ms/step - loss: 0.6344 - accuracy: 0.7699\n",
      "Epoch 16/100\n",
      "8/8 [==============================] - 0s 4ms/step - loss: 0.6224 - accuracy: 0.7741\n",
      "Epoch 17/100\n",
      "8/8 [==============================] - 0s 3ms/step - loss: 0.6110 - accuracy: 0.7699\n",
      "Epoch 18/100\n",
      "8/8 [==============================] - 0s 5ms/step - loss: 0.5999 - accuracy: 0.7741\n",
      "Epoch 19/100\n",
      "8/8 [==============================] - 0s 5ms/step - loss: 0.5887 - accuracy: 0.7741\n",
      "Epoch 20/100\n",
      "8/8 [==============================] - 0s 3ms/step - loss: 0.5786 - accuracy: 0.7741\n",
      "Epoch 21/100\n",
      "8/8 [==============================] - 0s 5ms/step - loss: 0.5684 - accuracy: 0.7699\n",
      "Epoch 22/100\n",
      "8/8 [==============================] - 0s 4ms/step - loss: 0.5586 - accuracy: 0.7699\n",
      "Epoch 23/100\n",
      "8/8 [==============================] - 0s 5ms/step - loss: 0.5497 - accuracy: 0.7699\n",
      "Epoch 24/100\n",
      "8/8 [==============================] - 0s 7ms/step - loss: 0.5417 - accuracy: 0.7824\n",
      "Epoch 25/100\n",
      "8/8 [==============================] - 0s 2ms/step - loss: 0.5329 - accuracy: 0.7824\n",
      "Epoch 26/100\n",
      "8/8 [==============================] - 0s 4ms/step - loss: 0.5245 - accuracy: 0.7741\n",
      "Epoch 27/100\n",
      "8/8 [==============================] - 0s 4ms/step - loss: 0.5183 - accuracy: 0.7699\n",
      "Epoch 28/100\n",
      "8/8 [==============================] - 0s 3ms/step - loss: 0.5118 - accuracy: 0.7741\n",
      "Epoch 29/100\n",
      "8/8 [==============================] - 0s 3ms/step - loss: 0.5062 - accuracy: 0.7741\n",
      "Epoch 30/100\n",
      "8/8 [==============================] - 0s 5ms/step - loss: 0.5033 - accuracy: 0.7699\n",
      "Epoch 31/100\n",
      "8/8 [==============================] - 0s 10ms/step - loss: 0.4986 - accuracy: 0.7741\n",
      "Epoch 32/100\n",
      "8/8 [==============================] - 0s 6ms/step - loss: 0.4960 - accuracy: 0.7741\n",
      "Epoch 33/100\n",
      "8/8 [==============================] - 0s 10ms/step - loss: 0.4928 - accuracy: 0.7741\n",
      "Epoch 34/100\n",
      "8/8 [==============================] - 0s 4ms/step - loss: 0.4917 - accuracy: 0.7741\n",
      "Epoch 35/100\n",
      "8/8 [==============================] - 0s 4ms/step - loss: 0.4895 - accuracy: 0.7741\n",
      "Epoch 36/100\n",
      "8/8 [==============================] - 0s 3ms/step - loss: 0.4884 - accuracy: 0.7741\n",
      "Epoch 37/100\n",
      "8/8 [==============================] - 0s 3ms/step - loss: 0.4868 - accuracy: 0.7741\n",
      "Epoch 38/100\n",
      "8/8 [==============================] - 0s 4ms/step - loss: 0.4853 - accuracy: 0.7741\n",
      "Epoch 39/100\n",
      "8/8 [==============================] - 0s 4ms/step - loss: 0.4855 - accuracy: 0.7741\n",
      "Epoch 40/100\n",
      "8/8 [==============================] - 0s 4ms/step - loss: 0.4840 - accuracy: 0.7741\n",
      "Epoch 41/100\n",
      "8/8 [==============================] - 0s 4ms/step - loss: 0.4842 - accuracy: 0.7824\n",
      "Epoch 42/100\n",
      "8/8 [==============================] - 0s 3ms/step - loss: 0.4828 - accuracy: 0.7824\n",
      "Epoch 43/100\n",
      "8/8 [==============================] - 0s 3ms/step - loss: 0.4829 - accuracy: 0.7824\n",
      "Epoch 44/100\n",
      "8/8 [==============================] - 0s 4ms/step - loss: 0.4819 - accuracy: 0.7824\n",
      "Epoch 45/100\n",
      "8/8 [==============================] - 0s 6ms/step - loss: 0.4830 - accuracy: 0.7824\n",
      "Epoch 46/100\n",
      "8/8 [==============================] - 0s 6ms/step - loss: 0.4810 - accuracy: 0.7824\n",
      "Epoch 47/100\n",
      "8/8 [==============================] - 0s 7ms/step - loss: 0.4801 - accuracy: 0.7824\n",
      "Epoch 48/100\n",
      "8/8 [==============================] - 0s 5ms/step - loss: 0.4807 - accuracy: 0.7824\n",
      "Epoch 49/100\n",
      "8/8 [==============================] - 0s 4ms/step - loss: 0.4800 - accuracy: 0.7824\n",
      "Epoch 50/100\n",
      "8/8 [==============================] - 0s 4ms/step - loss: 0.4800 - accuracy: 0.7824\n",
      "Epoch 51/100\n",
      "8/8 [==============================] - 0s 4ms/step - loss: 0.4796 - accuracy: 0.7824\n",
      "Epoch 52/100\n",
      "8/8 [==============================] - 0s 4ms/step - loss: 0.4783 - accuracy: 0.7824\n",
      "Epoch 53/100\n",
      "8/8 [==============================] - 0s 6ms/step - loss: 0.4777 - accuracy: 0.7824\n",
      "Epoch 54/100\n",
      "8/8 [==============================] - 0s 3ms/step - loss: 0.4778 - accuracy: 0.7908\n",
      "Epoch 55/100\n",
      "8/8 [==============================] - 0s 5ms/step - loss: 0.4772 - accuracy: 0.7866\n",
      "Epoch 56/100\n",
      "8/8 [==============================] - 0s 3ms/step - loss: 0.4775 - accuracy: 0.7824\n",
      "Epoch 57/100\n",
      "8/8 [==============================] - 0s 1ms/step - loss: 0.4770 - accuracy: 0.7866\n",
      "Epoch 58/100\n",
      "8/8 [==============================] - 0s 6ms/step - loss: 0.4771 - accuracy: 0.7908\n",
      "Epoch 59/100\n",
      "8/8 [==============================] - 0s 9ms/step - loss: 0.4776 - accuracy: 0.7908\n",
      "Epoch 60/100\n",
      "8/8 [==============================] - 0s 8ms/step - loss: 0.4755 - accuracy: 0.7908\n",
      "Epoch 61/100\n",
      "8/8 [==============================] - 0s 11ms/step - loss: 0.4761 - accuracy: 0.7908\n",
      "Epoch 62/100\n",
      "8/8 [==============================] - 0s 3ms/step - loss: 0.4751 - accuracy: 0.7908\n",
      "Epoch 63/100\n",
      "8/8 [==============================] - 0s 16ms/step - loss: 0.4749 - accuracy: 0.7908\n",
      "Epoch 64/100\n",
      "8/8 [==============================] - 0s 2ms/step - loss: 0.4747 - accuracy: 0.7908\n",
      "Epoch 65/100\n",
      "8/8 [==============================] - 0s 2ms/step - loss: 0.4743 - accuracy: 0.7908\n",
      "Epoch 66/100\n",
      "8/8 [==============================] - 0s 4ms/step - loss: 0.4753 - accuracy: 0.7908\n",
      "Epoch 67/100\n",
      "8/8 [==============================] - 0s 3ms/step - loss: 0.4733 - accuracy: 0.7908\n",
      "Epoch 68/100\n",
      "8/8 [==============================] - 0s 4ms/step - loss: 0.4733 - accuracy: 0.7908\n",
      "Epoch 69/100\n",
      "8/8 [==============================] - 0s 2ms/step - loss: 0.4733 - accuracy: 0.7908\n",
      "Epoch 70/100\n",
      "8/8 [==============================] - 0s 4ms/step - loss: 0.4731 - accuracy: 0.7908\n",
      "Epoch 71/100\n",
      "8/8 [==============================] - 0s 5ms/step - loss: 0.4727 - accuracy: 0.7908\n",
      "Epoch 72/100\n",
      "8/8 [==============================] - 0s 3ms/step - loss: 0.4725 - accuracy: 0.7908\n",
      "Epoch 73/100\n",
      "8/8 [==============================] - 0s 3ms/step - loss: 0.4721 - accuracy: 0.7908\n",
      "Epoch 74/100\n",
      "8/8 [==============================] - 0s 2ms/step - loss: 0.4716 - accuracy: 0.7908\n",
      "Epoch 75/100\n",
      "8/8 [==============================] - 0s 2ms/step - loss: 0.4725 - accuracy: 0.7866\n",
      "Epoch 76/100\n",
      "8/8 [==============================] - 0s 3ms/step - loss: 0.4714 - accuracy: 0.7866\n",
      "Epoch 77/100\n"
     ]
    },
    {
     "name": "stdout",
     "output_type": "stream",
     "text": [
      "8/8 [==============================] - 0s 5ms/step - loss: 0.4709 - accuracy: 0.7908\n",
      "Epoch 78/100\n",
      "8/8 [==============================] - 0s 2ms/step - loss: 0.4706 - accuracy: 0.7908\n",
      "Epoch 79/100\n",
      "8/8 [==============================] - 0s 3ms/step - loss: 0.4701 - accuracy: 0.7908\n",
      "Epoch 80/100\n",
      "8/8 [==============================] - 0s 4ms/step - loss: 0.4700 - accuracy: 0.7866\n",
      "Epoch 81/100\n",
      "8/8 [==============================] - 0s 3ms/step - loss: 0.4700 - accuracy: 0.7908\n",
      "Epoch 82/100\n",
      "8/8 [==============================] - 0s 3ms/step - loss: 0.4708 - accuracy: 0.7908\n",
      "Epoch 83/100\n",
      "8/8 [==============================] - 0s 3ms/step - loss: 0.4689 - accuracy: 0.7908\n",
      "Epoch 84/100\n",
      "8/8 [==============================] - 0s 3ms/step - loss: 0.4693 - accuracy: 0.7866\n",
      "Epoch 85/100\n",
      "8/8 [==============================] - 0s 2ms/step - loss: 0.4689 - accuracy: 0.7866\n",
      "Epoch 86/100\n",
      "8/8 [==============================] - 0s 4ms/step - loss: 0.4691 - accuracy: 0.7866\n",
      "Epoch 87/100\n",
      "8/8 [==============================] - 0s 2ms/step - loss: 0.4681 - accuracy: 0.7866\n",
      "Epoch 88/100\n",
      "8/8 [==============================] - 0s 2ms/step - loss: 0.4688 - accuracy: 0.7908\n",
      "Epoch 89/100\n",
      "8/8 [==============================] - 0s 3ms/step - loss: 0.4698 - accuracy: 0.7908\n",
      "Epoch 90/100\n",
      "8/8 [==============================] - 0s 2ms/step - loss: 0.4673 - accuracy: 0.7908\n",
      "Epoch 91/100\n",
      "8/8 [==============================] - 0s 3ms/step - loss: 0.4668 - accuracy: 0.7908\n",
      "Epoch 92/100\n",
      "8/8 [==============================] - 0s 2ms/step - loss: 0.4666 - accuracy: 0.7908\n",
      "Epoch 93/100\n",
      "8/8 [==============================] - 0s 2ms/step - loss: 0.4675 - accuracy: 0.7908\n",
      "Epoch 94/100\n",
      "8/8 [==============================] - 0s 4ms/step - loss: 0.4659 - accuracy: 0.7866\n",
      "Epoch 95/100\n",
      "8/8 [==============================] - 0s 4ms/step - loss: 0.4665 - accuracy: 0.7908\n",
      "Epoch 96/100\n",
      "8/8 [==============================] - 0s 3ms/step - loss: 0.4668 - accuracy: 0.7908\n",
      "Epoch 97/100\n",
      "8/8 [==============================] - 0s 2ms/step - loss: 0.4662 - accuracy: 0.7866\n",
      "Epoch 98/100\n",
      "8/8 [==============================] - 0s 2ms/step - loss: 0.4653 - accuracy: 0.7866\n",
      "Epoch 99/100\n",
      "8/8 [==============================] - 0s 4ms/step - loss: 0.4656 - accuracy: 0.7866\n",
      "Epoch 100/100\n",
      "8/8 [==============================] - 0s 4ms/step - loss: 0.4661 - accuracy: 0.7908\n"
     ]
    },
    {
     "data": {
      "text/plain": [
       "<tensorflow.python.keras.callbacks.History at 0x7f90a805aeb0>"
      ]
     },
     "execution_count": 47,
     "metadata": {},
     "output_type": "execute_result"
    }
   ],
   "source": [
    "ann.fit(x_train, y_train, batch_size = 32, epochs = 100)"
   ]
  },
  {
   "cell_type": "code",
   "execution_count": 48,
   "metadata": {},
   "outputs": [],
   "source": [
    "y_pred = ann.predict(x_test)\n",
    "y_pred = (y_pred > 0.5)"
   ]
  },
  {
   "cell_type": "code",
   "execution_count": 49,
   "metadata": {},
   "outputs": [
    {
     "name": "stdout",
     "output_type": "stream",
     "text": [
      "Accuracy\n",
      "86.66666666666667\n"
     ]
    }
   ],
   "source": [
    "ac = accuracy_score(y_test,y_pred)\n",
    "accuracy_list.append(100*ac)\n",
    "print(\"Accuracy\")\n",
    "print(ac*100)"
   ]
  },
  {
   "cell_type": "code",
   "execution_count": 50,
   "metadata": {},
   "outputs": [
    {
     "name": "stdout",
     "output_type": "stream",
     "text": [
      "              precision    recall  f1-score   support\n",
      "\n",
      "           0       0.84      1.00      0.91        43\n",
      "           1       1.00      0.53      0.69        17\n",
      "\n",
      "    accuracy                           0.87        60\n",
      "   macro avg       0.92      0.76      0.80        60\n",
      "weighted avg       0.89      0.87      0.85        60\n",
      "\n"
     ]
    }
   ],
   "source": [
    "print(classification_report(y_test, y_pred))"
   ]
  },
  {
   "cell_type": "code",
   "execution_count": 51,
   "metadata": {},
   "outputs": [
    {
     "data": {
      "text/plain": [
       "<AxesSubplot:>"
      ]
     },
     "execution_count": 51,
     "metadata": {},
     "output_type": "execute_result"
    },
    {
     "data": {
      "image/png": "[encoded data removed]",
      "text/plain": [
       "<Figure size 432x288 with 2 Axes>"
      ]
     },
     "metadata": {
      "needs_background": "light"
     },
     "output_type": "display_data"
    }
   ],
   "source": [
    "sn.heatmap(confusion_matrix(y_test,y_pred),annot=True, cmap='binary',center=0)"
   ]
  },
  {
   "cell_type": "code",
   "execution_count": 52,
   "metadata": {},
   "outputs": [],
   "source": [
    "#kot"
   ]
  },
  {
   "cell_type": "code",
   "execution_count": 53,
   "metadata": {},
   "outputs": [
    {
     "name": "stdout",
     "output_type": "stream",
     "text": [
      "Learning rate set to 0.005591\n",
      "0:\tlearn: 0.6898135\ttotal: 46.9ms\tremaining: 46.9s\n",
      "1:\tlearn: 0.6853805\ttotal: 47.5ms\tremaining: 23.7s\n",
      "2:\tlearn: 0.6814385\ttotal: 48ms\tremaining: 15.9s\n",
      "3:\tlearn: 0.6764012\ttotal: 48.5ms\tremaining: 12.1s\n",
      "4:\tlearn: 0.6732585\ttotal: 49ms\tremaining: 9.76s\n",
      "5:\tlearn: 0.6694012\ttotal: 49.5ms\tremaining: 8.2s\n",
      "6:\tlearn: 0.6649489\ttotal: 50ms\tremaining: 7.09s\n",
      "7:\tlearn: 0.6609728\ttotal: 50.5ms\tremaining: 6.26s\n",
      "8:\tlearn: 0.6571671\ttotal: 51ms\tremaining: 5.61s\n",
      "9:\tlearn: 0.6521731\ttotal: 51.5ms\tremaining: 5.1s\n",
      "10:\tlearn: 0.6485641\ttotal: 51.9ms\tremaining: 4.66s\n",
      "11:\tlearn: 0.6441080\ttotal: 52.3ms\tremaining: 4.31s\n",
      "12:\tlearn: 0.6410089\ttotal: 52.9ms\tremaining: 4.01s\n",
      "13:\tlearn: 0.6371346\ttotal: 53.4ms\tremaining: 3.76s\n",
      "14:\tlearn: 0.6329689\ttotal: 53.9ms\tremaining: 3.54s\n",
      "15:\tlearn: 0.6289573\ttotal: 54.2ms\tremaining: 3.33s\n",
      "16:\tlearn: 0.6247416\ttotal: 54.7ms\tremaining: 3.16s\n",
      "17:\tlearn: 0.6210853\ttotal: 55ms\tremaining: 3s\n",
      "18:\tlearn: 0.6177724\ttotal: 55.5ms\tremaining: 2.86s\n",
      "19:\tlearn: 0.6142840\ttotal: 56ms\tremaining: 2.74s\n",
      "20:\tlearn: 0.6109282\ttotal: 56.4ms\tremaining: 2.63s\n",
      "21:\tlearn: 0.6079612\ttotal: 56.9ms\tremaining: 2.53s\n",
      "22:\tlearn: 0.6042303\ttotal: 57.3ms\tremaining: 2.44s\n",
      "23:\tlearn: 0.6004910\ttotal: 57.8ms\tremaining: 2.35s\n",
      "24:\tlearn: 0.5971957\ttotal: 58.2ms\tremaining: 2.27s\n",
      "25:\tlearn: 0.5940750\ttotal: 58.7ms\tremaining: 2.2s\n",
      "26:\tlearn: 0.5912280\ttotal: 59.2ms\tremaining: 2.13s\n",
      "27:\tlearn: 0.5880262\ttotal: 59.7ms\tremaining: 2.07s\n",
      "28:\tlearn: 0.5847497\ttotal: 60ms\tremaining: 2.01s\n",
      "29:\tlearn: 0.5819720\ttotal: 60.4ms\tremaining: 1.95s\n",
      "30:\tlearn: 0.5793734\ttotal: 60.9ms\tremaining: 1.9s\n",
      "31:\tlearn: 0.5761353\ttotal: 61.3ms\tremaining: 1.85s\n",
      "32:\tlearn: 0.5732165\ttotal: 61.7ms\tremaining: 1.81s\n",
      "33:\tlearn: 0.5706339\ttotal: 62.2ms\tremaining: 1.77s\n",
      "34:\tlearn: 0.5678757\ttotal: 62.6ms\tremaining: 1.73s\n",
      "35:\tlearn: 0.5649123\ttotal: 63.1ms\tremaining: 1.69s\n",
      "36:\tlearn: 0.5621685\ttotal: 63.5ms\tremaining: 1.65s\n",
      "37:\tlearn: 0.5593817\ttotal: 63.9ms\tremaining: 1.62s\n",
      "38:\tlearn: 0.5558845\ttotal: 64.4ms\tremaining: 1.59s\n",
      "39:\tlearn: 0.5525681\ttotal: 64.8ms\tremaining: 1.56s\n",
      "40:\tlearn: 0.5497470\ttotal: 65.3ms\tremaining: 1.53s\n",
      "41:\tlearn: 0.5470944\ttotal: 65.7ms\tremaining: 1.5s\n",
      "42:\tlearn: 0.5446404\ttotal: 66.2ms\tremaining: 1.47s\n",
      "43:\tlearn: 0.5425201\ttotal: 66.6ms\tremaining: 1.45s\n",
      "44:\tlearn: 0.5399538\ttotal: 67ms\tremaining: 1.42s\n",
      "45:\tlearn: 0.5371808\ttotal: 67.4ms\tremaining: 1.4s\n",
      "46:\tlearn: 0.5344856\ttotal: 67.9ms\tremaining: 1.38s\n",
      "47:\tlearn: 0.5320511\ttotal: 68.4ms\tremaining: 1.36s\n",
      "48:\tlearn: 0.5289444\ttotal: 68.9ms\tremaining: 1.34s\n",
      "49:\tlearn: 0.5262941\ttotal: 69.3ms\tremaining: 1.32s\n",
      "50:\tlearn: 0.5241107\ttotal: 69.7ms\tremaining: 1.3s\n",
      "51:\tlearn: 0.5211522\ttotal: 70.2ms\tremaining: 1.28s\n",
      "52:\tlearn: 0.5191384\ttotal: 70.6ms\tremaining: 1.26s\n",
      "53:\tlearn: 0.5168426\ttotal: 71.1ms\tremaining: 1.25s\n",
      "54:\tlearn: 0.5155022\ttotal: 71.6ms\tremaining: 1.23s\n",
      "55:\tlearn: 0.5130538\ttotal: 72ms\tremaining: 1.21s\n",
      "56:\tlearn: 0.5111309\ttotal: 72.5ms\tremaining: 1.2s\n",
      "57:\tlearn: 0.5087536\ttotal: 72.9ms\tremaining: 1.18s\n",
      "58:\tlearn: 0.5069313\ttotal: 73.4ms\tremaining: 1.17s\n",
      "59:\tlearn: 0.5049586\ttotal: 73.8ms\tremaining: 1.16s\n",
      "60:\tlearn: 0.5027837\ttotal: 74.3ms\tremaining: 1.14s\n",
      "61:\tlearn: 0.5005912\ttotal: 74.7ms\tremaining: 1.13s\n",
      "62:\tlearn: 0.4978904\ttotal: 75.2ms\tremaining: 1.12s\n",
      "63:\tlearn: 0.4962401\ttotal: 75.5ms\tremaining: 1.1s\n",
      "64:\tlearn: 0.4942131\ttotal: 76ms\tremaining: 1.09s\n",
      "65:\tlearn: 0.4920802\ttotal: 76.4ms\tremaining: 1.08s\n",
      "66:\tlearn: 0.4897702\ttotal: 76.9ms\tremaining: 1.07s\n",
      "67:\tlearn: 0.4874401\ttotal: 77.4ms\tremaining: 1.06s\n",
      "68:\tlearn: 0.4844862\ttotal: 77.8ms\tremaining: 1.05s\n",
      "69:\tlearn: 0.4828510\ttotal: 78.3ms\tremaining: 1.04s\n",
      "70:\tlearn: 0.4813667\ttotal: 78.6ms\tremaining: 1.03s\n",
      "71:\tlearn: 0.4791527\ttotal: 79ms\tremaining: 1.02s\n",
      "72:\tlearn: 0.4771821\ttotal: 79.5ms\tremaining: 1.01s\n",
      "73:\tlearn: 0.4747955\ttotal: 80ms\tremaining: 1s\n",
      "74:\tlearn: 0.4731817\ttotal: 80.5ms\tremaining: 993ms\n",
      "75:\tlearn: 0.4708898\ttotal: 81ms\tremaining: 984ms\n",
      "76:\tlearn: 0.4695233\ttotal: 81.3ms\tremaining: 975ms\n",
      "77:\tlearn: 0.4672789\ttotal: 81.8ms\tremaining: 966ms\n",
      "78:\tlearn: 0.4655692\ttotal: 82.2ms\tremaining: 958ms\n",
      "79:\tlearn: 0.4644282\ttotal: 82.6ms\tremaining: 949ms\n",
      "80:\tlearn: 0.4625027\ttotal: 83.1ms\tremaining: 943ms\n",
      "81:\tlearn: 0.4604924\ttotal: 83.5ms\tremaining: 935ms\n",
      "82:\tlearn: 0.4588052\ttotal: 84ms\tremaining: 928ms\n",
      "83:\tlearn: 0.4576785\ttotal: 84.4ms\tremaining: 921ms\n",
      "84:\tlearn: 0.4564936\ttotal: 84.9ms\tremaining: 914ms\n",
      "85:\tlearn: 0.4546904\ttotal: 85.3ms\tremaining: 907ms\n",
      "86:\tlearn: 0.4529966\ttotal: 85.8ms\tremaining: 900ms\n",
      "87:\tlearn: 0.4512192\ttotal: 86.3ms\tremaining: 894ms\n",
      "88:\tlearn: 0.4501110\ttotal: 86.8ms\tremaining: 888ms\n",
      "89:\tlearn: 0.4487000\ttotal: 87.3ms\tremaining: 882ms\n",
      "90:\tlearn: 0.4471787\ttotal: 87.7ms\tremaining: 876ms\n",
      "91:\tlearn: 0.4456804\ttotal: 88.1ms\tremaining: 870ms\n",
      "92:\tlearn: 0.4437814\ttotal: 88.6ms\tremaining: 864ms\n",
      "93:\tlearn: 0.4422440\ttotal: 89.1ms\tremaining: 858ms\n",
      "94:\tlearn: 0.4407046\ttotal: 89.5ms\tremaining: 853ms\n",
      "95:\tlearn: 0.4397316\ttotal: 89.9ms\tremaining: 847ms\n",
      "96:\tlearn: 0.4380926\ttotal: 90.4ms\tremaining: 842ms\n",
      "97:\tlearn: 0.4361718\ttotal: 90.9ms\tremaining: 836ms\n",
      "98:\tlearn: 0.4350339\ttotal: 91.1ms\tremaining: 829ms\n",
      "99:\tlearn: 0.4337649\ttotal: 91.6ms\tremaining: 824ms\n",
      "100:\tlearn: 0.4320765\ttotal: 92.1ms\tremaining: 820ms\n",
      "101:\tlearn: 0.4309974\ttotal: 92.6ms\tremaining: 815ms\n",
      "102:\tlearn: 0.4303428\ttotal: 92.8ms\tremaining: 808ms\n",
      "103:\tlearn: 0.4287055\ttotal: 93.3ms\tremaining: 803ms\n",
      "104:\tlearn: 0.4275000\ttotal: 93.7ms\tremaining: 799ms\n",
      "105:\tlearn: 0.4258044\ttotal: 94.2ms\tremaining: 794ms\n",
      "106:\tlearn: 0.4240955\ttotal: 94.7ms\tremaining: 790ms\n",
      "107:\tlearn: 0.4229702\ttotal: 95.1ms\tremaining: 786ms\n",
      "108:\tlearn: 0.4215208\ttotal: 95.6ms\tremaining: 781ms\n",
      "109:\tlearn: 0.4204789\ttotal: 95.9ms\tremaining: 776ms\n",
      "110:\tlearn: 0.4192748\ttotal: 96.4ms\tremaining: 772ms\n",
      "111:\tlearn: 0.4183578\ttotal: 96.9ms\tremaining: 768ms\n",
      "112:\tlearn: 0.4170166\ttotal: 97.3ms\tremaining: 764ms\n",
      "113:\tlearn: 0.4160737\ttotal: 97.7ms\tremaining: 759ms\n",
      "114:\tlearn: 0.4146413\ttotal: 98.3ms\tremaining: 756ms\n",
      "115:\tlearn: 0.4135008\ttotal: 98.7ms\tremaining: 752ms\n",
      "116:\tlearn: 0.4122691\ttotal: 99.2ms\tremaining: 749ms\n",
      "117:\tlearn: 0.4107210\ttotal: 99.7ms\tremaining: 745ms\n",
      "118:\tlearn: 0.4093282\ttotal: 100ms\tremaining: 741ms\n",
      "119:\tlearn: 0.4085449\ttotal: 100ms\tremaining: 737ms\n",
      "120:\tlearn: 0.4075567\ttotal: 101ms\tremaining: 733ms\n",
      "121:\tlearn: 0.4066382\ttotal: 101ms\tremaining: 730ms\n",
      "122:\tlearn: 0.4057151\ttotal: 102ms\tremaining: 726ms\n",
      "123:\tlearn: 0.4051447\ttotal: 102ms\tremaining: 721ms\n",
      "124:\tlearn: 0.4042376\ttotal: 103ms\tremaining: 718ms\n",
      "125:\tlearn: 0.4034253\ttotal: 103ms\tremaining: 715ms\n",
      "126:\tlearn: 0.4021962\ttotal: 104ms\tremaining: 712ms\n",
      "127:\tlearn: 0.4011740\ttotal: 104ms\tremaining: 709ms\n",
      "128:\tlearn: 0.4001375\ttotal: 104ms\tremaining: 705ms\n",
      "129:\tlearn: 0.3994853\ttotal: 105ms\tremaining: 702ms\n",
      "130:\tlearn: 0.3984220\ttotal: 105ms\tremaining: 699ms\n",
      "131:\tlearn: 0.3974050\ttotal: 106ms\tremaining: 696ms\n",
      "132:\tlearn: 0.3964343\ttotal: 106ms\tremaining: 693ms\n",
      "133:\tlearn: 0.3951705\ttotal: 107ms\tremaining: 690ms\n",
      "134:\tlearn: 0.3937800\ttotal: 107ms\tremaining: 687ms\n",
      "135:\tlearn: 0.3926769\ttotal: 108ms\tremaining: 684ms\n",
      "136:\tlearn: 0.3917688\ttotal: 108ms\tremaining: 681ms\n",
      "137:\tlearn: 0.3903182\ttotal: 109ms\tremaining: 678ms\n",
      "138:\tlearn: 0.3897111\ttotal: 109ms\tremaining: 676ms\n",
      "139:\tlearn: 0.3885059\ttotal: 110ms\tremaining: 673ms\n",
      "140:\tlearn: 0.3875675\ttotal: 110ms\tremaining: 670ms\n",
      "141:\tlearn: 0.3866167\ttotal: 111ms\tremaining: 668ms\n",
      "142:\tlearn: 0.3856614\ttotal: 111ms\tremaining: 665ms\n",
      "143:\tlearn: 0.3848378\ttotal: 111ms\tremaining: 663ms\n",
      "144:\tlearn: 0.3841139\ttotal: 112ms\tremaining: 660ms\n",
      "145:\tlearn: 0.3832432\ttotal: 112ms\tremaining: 657ms\n",
      "146:\tlearn: 0.3824043\ttotal: 113ms\tremaining: 654ms\n",
      "147:\tlearn: 0.3816162\ttotal: 113ms\tremaining: 652ms\n",
      "148:\tlearn: 0.3807981\ttotal: 114ms\tremaining: 650ms\n",
      "149:\tlearn: 0.3802885\ttotal: 114ms\tremaining: 647ms\n",
      "150:\tlearn: 0.3793772\ttotal: 115ms\tremaining: 644ms\n",
      "151:\tlearn: 0.3784518\ttotal: 115ms\tremaining: 642ms\n",
      "152:\tlearn: 0.3776147\ttotal: 116ms\tremaining: 639ms\n",
      "153:\tlearn: 0.3768435\ttotal: 116ms\tremaining: 637ms\n",
      "154:\tlearn: 0.3760401\ttotal: 116ms\tremaining: 634ms\n",
      "155:\tlearn: 0.3750975\ttotal: 117ms\tremaining: 632ms\n",
      "156:\tlearn: 0.3739162\ttotal: 117ms\tremaining: 630ms\n",
      "157:\tlearn: 0.3728827\ttotal: 118ms\tremaining: 628ms\n",
      "158:\tlearn: 0.3717589\ttotal: 118ms\tremaining: 625ms\n",
      "159:\tlearn: 0.3708287\ttotal: 119ms\tremaining: 623ms\n",
      "160:\tlearn: 0.3700320\ttotal: 119ms\tremaining: 621ms\n",
      "161:\tlearn: 0.3691466\ttotal: 120ms\tremaining: 618ms\n",
      "162:\tlearn: 0.3683863\ttotal: 120ms\tremaining: 616ms\n",
      "163:\tlearn: 0.3676729\ttotal: 120ms\tremaining: 614ms\n",
      "164:\tlearn: 0.3671740\ttotal: 121ms\tremaining: 612ms\n",
      "165:\tlearn: 0.3663800\ttotal: 121ms\tremaining: 610ms\n",
      "166:\tlearn: 0.3656368\ttotal: 122ms\tremaining: 607ms\n",
      "167:\tlearn: 0.3650334\ttotal: 122ms\tremaining: 605ms\n",
      "168:\tlearn: 0.3641152\ttotal: 123ms\tremaining: 603ms\n",
      "169:\tlearn: 0.3632627\ttotal: 123ms\tremaining: 601ms\n",
      "170:\tlearn: 0.3625920\ttotal: 124ms\tremaining: 599ms\n",
      "171:\tlearn: 0.3617117\ttotal: 124ms\tremaining: 597ms\n",
      "172:\tlearn: 0.3611269\ttotal: 124ms\tremaining: 595ms\n",
      "173:\tlearn: 0.3603695\ttotal: 125ms\tremaining: 593ms\n",
      "174:\tlearn: 0.3596056\ttotal: 125ms\tremaining: 591ms\n",
      "175:\tlearn: 0.3588080\ttotal: 126ms\tremaining: 589ms\n",
      "176:\tlearn: 0.3578478\ttotal: 126ms\tremaining: 587ms\n",
      "177:\tlearn: 0.3566896\ttotal: 127ms\tremaining: 585ms\n",
      "178:\tlearn: 0.3555082\ttotal: 127ms\tremaining: 583ms\n",
      "179:\tlearn: 0.3549917\ttotal: 128ms\tremaining: 581ms\n",
      "180:\tlearn: 0.3545737\ttotal: 128ms\tremaining: 580ms\n",
      "181:\tlearn: 0.3537054\ttotal: 129ms\tremaining: 578ms\n",
      "182:\tlearn: 0.3532660\ttotal: 129ms\tremaining: 576ms\n",
      "183:\tlearn: 0.3524699\ttotal: 129ms\tremaining: 574ms\n",
      "184:\tlearn: 0.3518739\ttotal: 130ms\tremaining: 572ms\n",
      "185:\tlearn: 0.3513258\ttotal: 130ms\tremaining: 570ms\n",
      "186:\tlearn: 0.3504965\ttotal: 131ms\tremaining: 569ms\n",
      "187:\tlearn: 0.3498365\ttotal: 131ms\tremaining: 567ms\n",
      "188:\tlearn: 0.3492655\ttotal: 132ms\tremaining: 565ms\n",
      "189:\tlearn: 0.3485442\ttotal: 132ms\tremaining: 563ms\n",
      "190:\tlearn: 0.3480401\ttotal: 133ms\tremaining: 562ms\n",
      "191:\tlearn: 0.3476824\ttotal: 133ms\tremaining: 560ms\n",
      "192:\tlearn: 0.3468375\ttotal: 133ms\tremaining: 558ms\n",
      "193:\tlearn: 0.3464848\ttotal: 134ms\tremaining: 556ms\n",
      "194:\tlearn: 0.3458010\ttotal: 134ms\tremaining: 555ms\n",
      "195:\tlearn: 0.3453348\ttotal: 135ms\tremaining: 553ms\n",
      "196:\tlearn: 0.3444206\ttotal: 135ms\tremaining: 552ms\n",
      "197:\tlearn: 0.3436471\ttotal: 136ms\tremaining: 550ms\n",
      "198:\tlearn: 0.3432687\ttotal: 136ms\tremaining: 549ms\n",
      "199:\tlearn: 0.3427885\ttotal: 137ms\tremaining: 547ms\n",
      "200:\tlearn: 0.3419995\ttotal: 137ms\tremaining: 545ms\n",
      "201:\tlearn: 0.3413537\ttotal: 138ms\tremaining: 544ms\n",
      "202:\tlearn: 0.3409650\ttotal: 138ms\tremaining: 542ms\n",
      "203:\tlearn: 0.3402167\ttotal: 139ms\tremaining: 541ms\n",
      "204:\tlearn: 0.3394820\ttotal: 139ms\tremaining: 539ms\n",
      "205:\tlearn: 0.3387159\ttotal: 139ms\tremaining: 537ms\n",
      "206:\tlearn: 0.3379794\ttotal: 140ms\tremaining: 536ms\n",
      "207:\tlearn: 0.3374019\ttotal: 140ms\tremaining: 534ms\n",
      "208:\tlearn: 0.3368170\ttotal: 141ms\tremaining: 533ms\n",
      "209:\tlearn: 0.3359279\ttotal: 141ms\tremaining: 531ms\n",
      "210:\tlearn: 0.3354533\ttotal: 142ms\tremaining: 530ms\n",
      "211:\tlearn: 0.3347175\ttotal: 142ms\tremaining: 528ms\n",
      "212:\tlearn: 0.3342005\ttotal: 143ms\tremaining: 527ms\n",
      "213:\tlearn: 0.3337138\ttotal: 143ms\tremaining: 525ms\n",
      "214:\tlearn: 0.3332666\ttotal: 144ms\tremaining: 524ms\n",
      "215:\tlearn: 0.3325876\ttotal: 144ms\tremaining: 523ms\n",
      "216:\tlearn: 0.3321567\ttotal: 145ms\tremaining: 522ms\n",
      "217:\tlearn: 0.3315292\ttotal: 145ms\tremaining: 520ms\n",
      "218:\tlearn: 0.3310312\ttotal: 145ms\tremaining: 519ms\n",
      "219:\tlearn: 0.3303302\ttotal: 146ms\tremaining: 517ms\n",
      "220:\tlearn: 0.3298838\ttotal: 146ms\tremaining: 515ms\n",
      "221:\tlearn: 0.3296302\ttotal: 146ms\tremaining: 513ms\n",
      "222:\tlearn: 0.3288511\ttotal: 147ms\tremaining: 512ms\n",
      "223:\tlearn: 0.3283831\ttotal: 147ms\tremaining: 511ms\n",
      "224:\tlearn: 0.3277813\ttotal: 148ms\tremaining: 509ms\n",
      "225:\tlearn: 0.3269332\ttotal: 148ms\tremaining: 508ms\n",
      "226:\tlearn: 0.3264778\ttotal: 149ms\tremaining: 507ms\n",
      "227:\tlearn: 0.3258538\ttotal: 149ms\tremaining: 505ms\n",
      "228:\tlearn: 0.3255524\ttotal: 150ms\tremaining: 504ms\n",
      "229:\tlearn: 0.3250822\ttotal: 150ms\tremaining: 502ms\n",
      "230:\tlearn: 0.3244612\ttotal: 150ms\tremaining: 501ms\n",
      "231:\tlearn: 0.3240595\ttotal: 151ms\tremaining: 500ms\n",
      "232:\tlearn: 0.3235770\ttotal: 151ms\tremaining: 498ms\n",
      "233:\tlearn: 0.3228911\ttotal: 152ms\tremaining: 497ms\n",
      "234:\tlearn: 0.3223601\ttotal: 152ms\tremaining: 496ms\n",
      "235:\tlearn: 0.3218678\ttotal: 153ms\tremaining: 494ms\n",
      "236:\tlearn: 0.3215609\ttotal: 153ms\tremaining: 493ms\n",
      "237:\tlearn: 0.3211141\ttotal: 154ms\tremaining: 492ms\n",
      "238:\tlearn: 0.3205164\ttotal: 154ms\tremaining: 491ms\n",
      "239:\tlearn: 0.3200424\ttotal: 155ms\tremaining: 489ms\n",
      "240:\tlearn: 0.3194997\ttotal: 155ms\tremaining: 488ms\n",
      "241:\tlearn: 0.3189611\ttotal: 155ms\tremaining: 487ms\n",
      "242:\tlearn: 0.3187074\ttotal: 156ms\tremaining: 486ms\n",
      "243:\tlearn: 0.3184223\ttotal: 156ms\tremaining: 484ms\n",
      "244:\tlearn: 0.3179464\ttotal: 157ms\tremaining: 483ms\n",
      "245:\tlearn: 0.3172608\ttotal: 157ms\tremaining: 482ms\n",
      "246:\tlearn: 0.3166498\ttotal: 158ms\tremaining: 481ms\n",
      "247:\tlearn: 0.3162210\ttotal: 158ms\tremaining: 480ms\n",
      "248:\tlearn: 0.3159134\ttotal: 159ms\tremaining: 479ms\n",
      "249:\tlearn: 0.3152496\ttotal: 159ms\tremaining: 477ms\n",
      "250:\tlearn: 0.3148338\ttotal: 159ms\tremaining: 476ms\n",
      "251:\tlearn: 0.3143804\ttotal: 160ms\tremaining: 475ms\n",
      "252:\tlearn: 0.3142220\ttotal: 160ms\tremaining: 473ms\n",
      "253:\tlearn: 0.3137818\ttotal: 161ms\tremaining: 472ms\n",
      "254:\tlearn: 0.3135259\ttotal: 161ms\tremaining: 470ms\n",
      "255:\tlearn: 0.3129679\ttotal: 161ms\tremaining: 469ms\n",
      "256:\tlearn: 0.3126420\ttotal: 162ms\tremaining: 468ms\n",
      "257:\tlearn: 0.3123430\ttotal: 162ms\tremaining: 467ms\n",
      "258:\tlearn: 0.3119160\ttotal: 163ms\tremaining: 466ms\n",
      "259:\tlearn: 0.3117292\ttotal: 163ms\tremaining: 465ms\n",
      "260:\tlearn: 0.3111690\ttotal: 164ms\tremaining: 464ms\n",
      "261:\tlearn: 0.3106142\ttotal: 164ms\tremaining: 462ms\n",
      "262:\tlearn: 0.3100697\ttotal: 165ms\tremaining: 461ms\n",
      "263:\tlearn: 0.3096554\ttotal: 165ms\tremaining: 460ms\n",
      "264:\tlearn: 0.3092323\ttotal: 166ms\tremaining: 459ms\n",
      "265:\tlearn: 0.3087522\ttotal: 166ms\tremaining: 458ms\n",
      "266:\tlearn: 0.3081993\ttotal: 166ms\tremaining: 457ms\n",
      "267:\tlearn: 0.3078947\ttotal: 167ms\tremaining: 456ms\n",
      "268:\tlearn: 0.3076622\ttotal: 167ms\tremaining: 455ms\n",
      "269:\tlearn: 0.3073269\ttotal: 168ms\tremaining: 454ms\n",
      "270:\tlearn: 0.3069619\ttotal: 168ms\tremaining: 453ms\n",
      "271:\tlearn: 0.3067394\ttotal: 169ms\tremaining: 452ms\n",
      "272:\tlearn: 0.3060397\ttotal: 169ms\tremaining: 451ms\n",
      "273:\tlearn: 0.3056219\ttotal: 170ms\tremaining: 450ms\n",
      "274:\tlearn: 0.3049750\ttotal: 170ms\tremaining: 449ms\n",
      "275:\tlearn: 0.3044244\ttotal: 171ms\tremaining: 448ms\n",
      "276:\tlearn: 0.3039661\ttotal: 171ms\tremaining: 447ms\n",
      "277:\tlearn: 0.3035016\ttotal: 172ms\tremaining: 446ms\n",
      "278:\tlearn: 0.3032119\ttotal: 172ms\tremaining: 445ms\n",
      "279:\tlearn: 0.3028094\ttotal: 173ms\tremaining: 444ms\n",
      "280:\tlearn: 0.3023249\ttotal: 173ms\tremaining: 444ms\n",
      "281:\tlearn: 0.3021166\ttotal: 174ms\tremaining: 442ms\n",
      "282:\tlearn: 0.3016549\ttotal: 174ms\tremaining: 441ms\n",
      "283:\tlearn: 0.3013290\ttotal: 175ms\tremaining: 440ms\n",
      "284:\tlearn: 0.3010434\ttotal: 175ms\tremaining: 439ms\n",
      "285:\tlearn: 0.3007324\ttotal: 176ms\tremaining: 438ms\n",
      "286:\tlearn: 0.3003561\ttotal: 176ms\tremaining: 437ms\n",
      "287:\tlearn: 0.3000445\ttotal: 176ms\tremaining: 436ms\n",
      "288:\tlearn: 0.2996752\ttotal: 177ms\tremaining: 435ms\n",
      "289:\tlearn: 0.2991473\ttotal: 177ms\tremaining: 434ms\n",
      "290:\tlearn: 0.2989527\ttotal: 178ms\tremaining: 433ms\n",
      "291:\tlearn: 0.2983290\ttotal: 178ms\tremaining: 432ms\n",
      "292:\tlearn: 0.2981786\ttotal: 178ms\tremaining: 430ms\n",
      "293:\tlearn: 0.2976288\ttotal: 179ms\tremaining: 429ms\n",
      "294:\tlearn: 0.2974021\ttotal: 179ms\tremaining: 428ms\n",
      "295:\tlearn: 0.2969890\ttotal: 180ms\tremaining: 427ms\n",
      "296:\tlearn: 0.2965318\ttotal: 180ms\tremaining: 426ms\n",
      "297:\tlearn: 0.2960825\ttotal: 181ms\tremaining: 425ms\n",
      "298:\tlearn: 0.2957985\ttotal: 181ms\tremaining: 424ms\n",
      "299:\tlearn: 0.2951938\ttotal: 182ms\tremaining: 424ms\n",
      "300:\tlearn: 0.2948051\ttotal: 182ms\tremaining: 423ms\n",
      "301:\tlearn: 0.2944917\ttotal: 182ms\tremaining: 421ms\n",
      "302:\tlearn: 0.2940716\ttotal: 183ms\tremaining: 421ms\n",
      "303:\tlearn: 0.2938959\ttotal: 183ms\tremaining: 420ms\n"
     ]
    },
    {
     "name": "stdout",
     "output_type": "stream",
     "text": [
      "304:\tlearn: 0.2935059\ttotal: 184ms\tremaining: 420ms\n",
      "305:\tlearn: 0.2930548\ttotal: 185ms\tremaining: 419ms\n",
      "306:\tlearn: 0.2924758\ttotal: 185ms\tremaining: 418ms\n",
      "307:\tlearn: 0.2922886\ttotal: 186ms\tremaining: 418ms\n",
      "308:\tlearn: 0.2919639\ttotal: 186ms\tremaining: 417ms\n",
      "309:\tlearn: 0.2917889\ttotal: 187ms\tremaining: 416ms\n",
      "310:\tlearn: 0.2913251\ttotal: 187ms\tremaining: 415ms\n",
      "311:\tlearn: 0.2911220\ttotal: 188ms\tremaining: 414ms\n",
      "312:\tlearn: 0.2906955\ttotal: 188ms\tremaining: 413ms\n",
      "313:\tlearn: 0.2903350\ttotal: 189ms\tremaining: 412ms\n",
      "314:\tlearn: 0.2899102\ttotal: 189ms\tremaining: 411ms\n",
      "315:\tlearn: 0.2895469\ttotal: 190ms\tremaining: 411ms\n",
      "316:\tlearn: 0.2893742\ttotal: 190ms\tremaining: 410ms\n",
      "317:\tlearn: 0.2892063\ttotal: 191ms\tremaining: 409ms\n",
      "318:\tlearn: 0.2889985\ttotal: 191ms\tremaining: 408ms\n",
      "319:\tlearn: 0.2885945\ttotal: 191ms\tremaining: 407ms\n",
      "320:\tlearn: 0.2884280\ttotal: 192ms\tremaining: 406ms\n",
      "321:\tlearn: 0.2882100\ttotal: 192ms\tremaining: 405ms\n",
      "322:\tlearn: 0.2880875\ttotal: 193ms\tremaining: 404ms\n",
      "323:\tlearn: 0.2876705\ttotal: 193ms\tremaining: 403ms\n",
      "324:\tlearn: 0.2873203\ttotal: 194ms\tremaining: 402ms\n",
      "325:\tlearn: 0.2869961\ttotal: 194ms\tremaining: 401ms\n",
      "326:\tlearn: 0.2867567\ttotal: 195ms\tremaining: 400ms\n",
      "327:\tlearn: 0.2861651\ttotal: 195ms\tremaining: 400ms\n",
      "328:\tlearn: 0.2857389\ttotal: 195ms\tremaining: 398ms\n",
      "329:\tlearn: 0.2853538\ttotal: 196ms\tremaining: 398ms\n",
      "330:\tlearn: 0.2852025\ttotal: 196ms\tremaining: 397ms\n",
      "331:\tlearn: 0.2847240\ttotal: 197ms\tremaining: 396ms\n",
      "332:\tlearn: 0.2845230\ttotal: 197ms\tremaining: 395ms\n",
      "333:\tlearn: 0.2843739\ttotal: 198ms\tremaining: 394ms\n",
      "334:\tlearn: 0.2841884\ttotal: 198ms\tremaining: 393ms\n",
      "335:\tlearn: 0.2837016\ttotal: 199ms\tremaining: 392ms\n",
      "336:\tlearn: 0.2833589\ttotal: 199ms\tremaining: 391ms\n",
      "337:\tlearn: 0.2831155\ttotal: 199ms\tremaining: 391ms\n",
      "338:\tlearn: 0.2828512\ttotal: 200ms\tremaining: 390ms\n",
      "339:\tlearn: 0.2822468\ttotal: 200ms\tremaining: 389ms\n",
      "340:\tlearn: 0.2820296\ttotal: 201ms\tremaining: 388ms\n",
      "341:\tlearn: 0.2820056\ttotal: 201ms\tremaining: 387ms\n",
      "342:\tlearn: 0.2816977\ttotal: 201ms\tremaining: 386ms\n",
      "343:\tlearn: 0.2814148\ttotal: 202ms\tremaining: 385ms\n",
      "344:\tlearn: 0.2811947\ttotal: 202ms\tremaining: 384ms\n",
      "345:\tlearn: 0.2808920\ttotal: 203ms\tremaining: 384ms\n",
      "346:\tlearn: 0.2806129\ttotal: 203ms\tremaining: 383ms\n",
      "347:\tlearn: 0.2804481\ttotal: 204ms\tremaining: 382ms\n",
      "348:\tlearn: 0.2800871\ttotal: 204ms\tremaining: 381ms\n",
      "349:\tlearn: 0.2797605\ttotal: 205ms\tremaining: 380ms\n",
      "350:\tlearn: 0.2795912\ttotal: 205ms\tremaining: 380ms\n",
      "351:\tlearn: 0.2794520\ttotal: 206ms\tremaining: 379ms\n",
      "352:\tlearn: 0.2791582\ttotal: 206ms\tremaining: 378ms\n",
      "353:\tlearn: 0.2786854\ttotal: 210ms\tremaining: 384ms\n",
      "354:\tlearn: 0.2785464\ttotal: 211ms\tremaining: 383ms\n",
      "355:\tlearn: 0.2783191\ttotal: 212ms\tremaining: 383ms\n",
      "356:\tlearn: 0.2782495\ttotal: 212ms\tremaining: 382ms\n",
      "357:\tlearn: 0.2779378\ttotal: 213ms\tremaining: 381ms\n",
      "358:\tlearn: 0.2775531\ttotal: 213ms\tremaining: 380ms\n",
      "359:\tlearn: 0.2774950\ttotal: 213ms\tremaining: 379ms\n",
      "360:\tlearn: 0.2771911\ttotal: 214ms\tremaining: 378ms\n",
      "361:\tlearn: 0.2769261\ttotal: 214ms\tremaining: 378ms\n",
      "362:\tlearn: 0.2765992\ttotal: 215ms\tremaining: 377ms\n",
      "363:\tlearn: 0.2763540\ttotal: 215ms\tremaining: 376ms\n",
      "364:\tlearn: 0.2761320\ttotal: 216ms\tremaining: 376ms\n",
      "365:\tlearn: 0.2757114\ttotal: 217ms\tremaining: 375ms\n",
      "366:\tlearn: 0.2755046\ttotal: 217ms\tremaining: 374ms\n",
      "367:\tlearn: 0.2751226\ttotal: 218ms\tremaining: 374ms\n",
      "368:\tlearn: 0.2748443\ttotal: 218ms\tremaining: 373ms\n",
      "369:\tlearn: 0.2743844\ttotal: 218ms\tremaining: 372ms\n",
      "370:\tlearn: 0.2742401\ttotal: 219ms\tremaining: 371ms\n",
      "371:\tlearn: 0.2739278\ttotal: 219ms\tremaining: 370ms\n",
      "372:\tlearn: 0.2735601\ttotal: 220ms\tremaining: 370ms\n",
      "373:\tlearn: 0.2731141\ttotal: 220ms\tremaining: 369ms\n",
      "374:\tlearn: 0.2728462\ttotal: 221ms\tremaining: 368ms\n",
      "375:\tlearn: 0.2724121\ttotal: 221ms\tremaining: 367ms\n",
      "376:\tlearn: 0.2720013\ttotal: 222ms\tremaining: 366ms\n",
      "377:\tlearn: 0.2717653\ttotal: 222ms\tremaining: 365ms\n",
      "378:\tlearn: 0.2714112\ttotal: 222ms\tremaining: 365ms\n",
      "379:\tlearn: 0.2709763\ttotal: 223ms\tremaining: 364ms\n",
      "380:\tlearn: 0.2705875\ttotal: 223ms\tremaining: 363ms\n",
      "381:\tlearn: 0.2701881\ttotal: 224ms\tremaining: 362ms\n",
      "382:\tlearn: 0.2699750\ttotal: 224ms\tremaining: 361ms\n",
      "383:\tlearn: 0.2697732\ttotal: 225ms\tremaining: 361ms\n",
      "384:\tlearn: 0.2696438\ttotal: 225ms\tremaining: 360ms\n",
      "385:\tlearn: 0.2693874\ttotal: 226ms\tremaining: 359ms\n",
      "386:\tlearn: 0.2691081\ttotal: 226ms\tremaining: 358ms\n",
      "387:\tlearn: 0.2688978\ttotal: 227ms\tremaining: 358ms\n",
      "388:\tlearn: 0.2687126\ttotal: 227ms\tremaining: 357ms\n",
      "389:\tlearn: 0.2683851\ttotal: 228ms\tremaining: 356ms\n",
      "390:\tlearn: 0.2682840\ttotal: 228ms\tremaining: 355ms\n",
      "391:\tlearn: 0.2680392\ttotal: 229ms\tremaining: 355ms\n",
      "392:\tlearn: 0.2677344\ttotal: 229ms\tremaining: 354ms\n",
      "393:\tlearn: 0.2673629\ttotal: 230ms\tremaining: 353ms\n",
      "394:\tlearn: 0.2672781\ttotal: 230ms\tremaining: 353ms\n",
      "395:\tlearn: 0.2670768\ttotal: 238ms\tremaining: 363ms\n",
      "396:\tlearn: 0.2667125\ttotal: 239ms\tremaining: 362ms\n",
      "397:\tlearn: 0.2664924\ttotal: 239ms\tremaining: 362ms\n",
      "398:\tlearn: 0.2664091\ttotal: 239ms\tremaining: 361ms\n",
      "399:\tlearn: 0.2661892\ttotal: 240ms\tremaining: 360ms\n",
      "400:\tlearn: 0.2660201\ttotal: 241ms\tremaining: 359ms\n",
      "401:\tlearn: 0.2654092\ttotal: 243ms\tremaining: 361ms\n",
      "402:\tlearn: 0.2650338\ttotal: 243ms\tremaining: 361ms\n",
      "403:\tlearn: 0.2647242\ttotal: 244ms\tremaining: 360ms\n",
      "404:\tlearn: 0.2643816\ttotal: 245ms\tremaining: 359ms\n",
      "405:\tlearn: 0.2640676\ttotal: 245ms\tremaining: 359ms\n",
      "406:\tlearn: 0.2636258\ttotal: 246ms\tremaining: 358ms\n",
      "407:\tlearn: 0.2633603\ttotal: 246ms\tremaining: 357ms\n",
      "408:\tlearn: 0.2631185\ttotal: 246ms\tremaining: 356ms\n",
      "409:\tlearn: 0.2627708\ttotal: 247ms\tremaining: 355ms\n",
      "410:\tlearn: 0.2625168\ttotal: 247ms\tremaining: 355ms\n",
      "411:\tlearn: 0.2623702\ttotal: 248ms\tremaining: 354ms\n",
      "412:\tlearn: 0.2621557\ttotal: 248ms\tremaining: 353ms\n",
      "413:\tlearn: 0.2618331\ttotal: 249ms\tremaining: 352ms\n",
      "414:\tlearn: 0.2614916\ttotal: 249ms\tremaining: 351ms\n",
      "415:\tlearn: 0.2611638\ttotal: 250ms\tremaining: 350ms\n",
      "416:\tlearn: 0.2609562\ttotal: 250ms\tremaining: 349ms\n",
      "417:\tlearn: 0.2608455\ttotal: 250ms\tremaining: 349ms\n",
      "418:\tlearn: 0.2607223\ttotal: 251ms\tremaining: 348ms\n",
      "419:\tlearn: 0.2605845\ttotal: 251ms\tremaining: 347ms\n",
      "420:\tlearn: 0.2601035\ttotal: 252ms\tremaining: 346ms\n",
      "421:\tlearn: 0.2599975\ttotal: 252ms\tremaining: 345ms\n",
      "422:\tlearn: 0.2599734\ttotal: 252ms\tremaining: 344ms\n",
      "423:\tlearn: 0.2596867\ttotal: 253ms\tremaining: 343ms\n",
      "424:\tlearn: 0.2594308\ttotal: 253ms\tremaining: 343ms\n",
      "425:\tlearn: 0.2590056\ttotal: 254ms\tremaining: 342ms\n",
      "426:\tlearn: 0.2589203\ttotal: 254ms\tremaining: 341ms\n",
      "427:\tlearn: 0.2588563\ttotal: 254ms\tremaining: 340ms\n",
      "428:\tlearn: 0.2585593\ttotal: 255ms\tremaining: 339ms\n",
      "429:\tlearn: 0.2583596\ttotal: 255ms\tremaining: 339ms\n",
      "430:\tlearn: 0.2581485\ttotal: 256ms\tremaining: 338ms\n",
      "431:\tlearn: 0.2580155\ttotal: 256ms\tremaining: 337ms\n",
      "432:\tlearn: 0.2576560\ttotal: 257ms\tremaining: 336ms\n",
      "433:\tlearn: 0.2573317\ttotal: 257ms\tremaining: 336ms\n",
      "434:\tlearn: 0.2572583\ttotal: 258ms\tremaining: 335ms\n",
      "435:\tlearn: 0.2570291\ttotal: 258ms\tremaining: 334ms\n",
      "436:\tlearn: 0.2568565\ttotal: 259ms\tremaining: 333ms\n",
      "437:\tlearn: 0.2566129\ttotal: 259ms\tremaining: 333ms\n",
      "438:\tlearn: 0.2564027\ttotal: 260ms\tremaining: 332ms\n",
      "439:\tlearn: 0.2561455\ttotal: 260ms\tremaining: 331ms\n",
      "440:\tlearn: 0.2558442\ttotal: 261ms\tremaining: 330ms\n",
      "441:\tlearn: 0.2556968\ttotal: 261ms\tremaining: 330ms\n",
      "442:\tlearn: 0.2555616\ttotal: 262ms\tremaining: 329ms\n",
      "443:\tlearn: 0.2553808\ttotal: 262ms\tremaining: 328ms\n",
      "444:\tlearn: 0.2551597\ttotal: 262ms\tremaining: 327ms\n",
      "445:\tlearn: 0.2549815\ttotal: 263ms\tremaining: 327ms\n",
      "446:\tlearn: 0.2546276\ttotal: 263ms\tremaining: 326ms\n",
      "447:\tlearn: 0.2544551\ttotal: 264ms\tremaining: 325ms\n",
      "448:\tlearn: 0.2542236\ttotal: 264ms\tremaining: 324ms\n",
      "449:\tlearn: 0.2538096\ttotal: 265ms\tremaining: 324ms\n",
      "450:\tlearn: 0.2537509\ttotal: 265ms\tremaining: 323ms\n",
      "451:\tlearn: 0.2534355\ttotal: 266ms\tremaining: 322ms\n",
      "452:\tlearn: 0.2531840\ttotal: 266ms\tremaining: 321ms\n",
      "453:\tlearn: 0.2527864\ttotal: 266ms\tremaining: 320ms\n",
      "454:\tlearn: 0.2525882\ttotal: 267ms\tremaining: 320ms\n",
      "455:\tlearn: 0.2524800\ttotal: 267ms\tremaining: 319ms\n",
      "456:\tlearn: 0.2524145\ttotal: 268ms\tremaining: 318ms\n",
      "457:\tlearn: 0.2522718\ttotal: 268ms\tremaining: 317ms\n",
      "458:\tlearn: 0.2518672\ttotal: 269ms\tremaining: 317ms\n",
      "459:\tlearn: 0.2516108\ttotal: 269ms\tremaining: 316ms\n",
      "460:\tlearn: 0.2514327\ttotal: 270ms\tremaining: 315ms\n",
      "461:\tlearn: 0.2511619\ttotal: 270ms\tremaining: 314ms\n",
      "462:\tlearn: 0.2508489\ttotal: 271ms\tremaining: 314ms\n",
      "463:\tlearn: 0.2505808\ttotal: 271ms\tremaining: 313ms\n",
      "464:\tlearn: 0.2503014\ttotal: 271ms\tremaining: 312ms\n",
      "465:\tlearn: 0.2500002\ttotal: 272ms\tremaining: 312ms\n",
      "466:\tlearn: 0.2498258\ttotal: 272ms\tremaining: 311ms\n",
      "467:\tlearn: 0.2496085\ttotal: 273ms\tremaining: 310ms\n",
      "468:\tlearn: 0.2491950\ttotal: 273ms\tremaining: 309ms\n",
      "469:\tlearn: 0.2488526\ttotal: 274ms\tremaining: 309ms\n",
      "470:\tlearn: 0.2485291\ttotal: 274ms\tremaining: 308ms\n",
      "471:\tlearn: 0.2483359\ttotal: 274ms\tremaining: 307ms\n",
      "472:\tlearn: 0.2480299\ttotal: 275ms\tremaining: 306ms\n",
      "473:\tlearn: 0.2478522\ttotal: 275ms\tremaining: 306ms\n",
      "474:\tlearn: 0.2477421\ttotal: 276ms\tremaining: 305ms\n",
      "475:\tlearn: 0.2475557\ttotal: 276ms\tremaining: 304ms\n",
      "476:\tlearn: 0.2473799\ttotal: 277ms\tremaining: 303ms\n",
      "477:\tlearn: 0.2473219\ttotal: 277ms\tremaining: 303ms\n",
      "478:\tlearn: 0.2470827\ttotal: 278ms\tremaining: 302ms\n",
      "479:\tlearn: 0.2469783\ttotal: 278ms\tremaining: 301ms\n",
      "480:\tlearn: 0.2468603\ttotal: 278ms\tremaining: 301ms\n",
      "481:\tlearn: 0.2467249\ttotal: 279ms\tremaining: 300ms\n",
      "482:\tlearn: 0.2465009\ttotal: 280ms\tremaining: 299ms\n",
      "483:\tlearn: 0.2462625\ttotal: 280ms\tremaining: 298ms\n",
      "484:\tlearn: 0.2460979\ttotal: 280ms\tremaining: 298ms\n",
      "485:\tlearn: 0.2458669\ttotal: 281ms\tremaining: 297ms\n",
      "486:\tlearn: 0.2455695\ttotal: 281ms\tremaining: 296ms\n",
      "487:\tlearn: 0.2453241\ttotal: 282ms\tremaining: 296ms\n",
      "488:\tlearn: 0.2450839\ttotal: 282ms\tremaining: 295ms\n",
      "489:\tlearn: 0.2448847\ttotal: 283ms\tremaining: 294ms\n",
      "490:\tlearn: 0.2446725\ttotal: 283ms\tremaining: 293ms\n",
      "491:\tlearn: 0.2443457\ttotal: 284ms\tremaining: 293ms\n",
      "492:\tlearn: 0.2441618\ttotal: 284ms\tremaining: 292ms\n",
      "493:\tlearn: 0.2437022\ttotal: 284ms\tremaining: 291ms\n",
      "494:\tlearn: 0.2436553\ttotal: 285ms\tremaining: 290ms\n",
      "495:\tlearn: 0.2435489\ttotal: 285ms\tremaining: 290ms\n",
      "496:\tlearn: 0.2432847\ttotal: 286ms\tremaining: 289ms\n",
      "497:\tlearn: 0.2430889\ttotal: 286ms\tremaining: 288ms\n",
      "498:\tlearn: 0.2428211\ttotal: 286ms\tremaining: 288ms\n",
      "499:\tlearn: 0.2426908\ttotal: 287ms\tremaining: 287ms\n",
      "500:\tlearn: 0.2425124\ttotal: 287ms\tremaining: 286ms\n",
      "501:\tlearn: 0.2422371\ttotal: 288ms\tremaining: 285ms\n",
      "502:\tlearn: 0.2420369\ttotal: 288ms\tremaining: 285ms\n",
      "503:\tlearn: 0.2418083\ttotal: 289ms\tremaining: 284ms\n",
      "504:\tlearn: 0.2417320\ttotal: 289ms\tremaining: 284ms\n",
      "505:\tlearn: 0.2414982\ttotal: 290ms\tremaining: 283ms\n",
      "506:\tlearn: 0.2413475\ttotal: 290ms\tremaining: 282ms\n",
      "507:\tlearn: 0.2409154\ttotal: 291ms\tremaining: 282ms\n",
      "508:\tlearn: 0.2408285\ttotal: 291ms\tremaining: 281ms\n",
      "509:\tlearn: 0.2406689\ttotal: 292ms\tremaining: 280ms\n",
      "510:\tlearn: 0.2403180\ttotal: 292ms\tremaining: 280ms\n",
      "511:\tlearn: 0.2401197\ttotal: 293ms\tremaining: 279ms\n",
      "512:\tlearn: 0.2398942\ttotal: 293ms\tremaining: 278ms\n",
      "513:\tlearn: 0.2395901\ttotal: 293ms\tremaining: 277ms\n",
      "514:\tlearn: 0.2392681\ttotal: 294ms\tremaining: 277ms\n",
      "515:\tlearn: 0.2389848\ttotal: 294ms\tremaining: 276ms\n",
      "516:\tlearn: 0.2386598\ttotal: 295ms\tremaining: 275ms\n",
      "517:\tlearn: 0.2384928\ttotal: 295ms\tremaining: 275ms\n",
      "518:\tlearn: 0.2382184\ttotal: 296ms\tremaining: 274ms\n",
      "519:\tlearn: 0.2379126\ttotal: 296ms\tremaining: 273ms\n",
      "520:\tlearn: 0.2377453\ttotal: 297ms\tremaining: 273ms\n",
      "521:\tlearn: 0.2375656\ttotal: 297ms\tremaining: 272ms\n",
      "522:\tlearn: 0.2373782\ttotal: 297ms\tremaining: 271ms\n",
      "523:\tlearn: 0.2372184\ttotal: 298ms\tremaining: 271ms\n",
      "524:\tlearn: 0.2369707\ttotal: 298ms\tremaining: 270ms\n",
      "525:\tlearn: 0.2369371\ttotal: 299ms\tremaining: 269ms\n",
      "526:\tlearn: 0.2368370\ttotal: 299ms\tremaining: 269ms\n",
      "527:\tlearn: 0.2365831\ttotal: 300ms\tremaining: 268ms\n",
      "528:\tlearn: 0.2364598\ttotal: 300ms\tremaining: 267ms\n",
      "529:\tlearn: 0.2364038\ttotal: 301ms\tremaining: 266ms\n",
      "530:\tlearn: 0.2362631\ttotal: 301ms\tremaining: 266ms\n",
      "531:\tlearn: 0.2361874\ttotal: 301ms\tremaining: 265ms\n",
      "532:\tlearn: 0.2358800\ttotal: 302ms\tremaining: 264ms\n",
      "533:\tlearn: 0.2357592\ttotal: 302ms\tremaining: 264ms\n",
      "534:\tlearn: 0.2356753\ttotal: 303ms\tremaining: 263ms\n",
      "535:\tlearn: 0.2354294\ttotal: 303ms\tremaining: 262ms\n",
      "536:\tlearn: 0.2353940\ttotal: 303ms\tremaining: 262ms\n",
      "537:\tlearn: 0.2352603\ttotal: 304ms\tremaining: 261ms\n",
      "538:\tlearn: 0.2351668\ttotal: 304ms\tremaining: 260ms\n",
      "539:\tlearn: 0.2349984\ttotal: 305ms\tremaining: 260ms\n",
      "540:\tlearn: 0.2348996\ttotal: 305ms\tremaining: 259ms\n",
      "541:\tlearn: 0.2346629\ttotal: 306ms\tremaining: 258ms\n",
      "542:\tlearn: 0.2343761\ttotal: 306ms\tremaining: 258ms\n",
      "543:\tlearn: 0.2341276\ttotal: 307ms\tremaining: 257ms\n",
      "544:\tlearn: 0.2340375\ttotal: 307ms\tremaining: 256ms\n",
      "545:\tlearn: 0.2338828\ttotal: 307ms\tremaining: 256ms\n",
      "546:\tlearn: 0.2336221\ttotal: 308ms\tremaining: 255ms\n",
      "547:\tlearn: 0.2335571\ttotal: 308ms\tremaining: 254ms\n",
      "548:\tlearn: 0.2332393\ttotal: 309ms\tremaining: 254ms\n",
      "549:\tlearn: 0.2330769\ttotal: 309ms\tremaining: 253ms\n",
      "550:\tlearn: 0.2329460\ttotal: 309ms\tremaining: 252ms\n",
      "551:\tlearn: 0.2327519\ttotal: 310ms\tremaining: 252ms\n",
      "552:\tlearn: 0.2326059\ttotal: 310ms\tremaining: 251ms\n",
      "553:\tlearn: 0.2324484\ttotal: 311ms\tremaining: 250ms\n",
      "554:\tlearn: 0.2321163\ttotal: 311ms\tremaining: 250ms\n",
      "555:\tlearn: 0.2318896\ttotal: 312ms\tremaining: 249ms\n",
      "556:\tlearn: 0.2317388\ttotal: 312ms\tremaining: 248ms\n",
      "557:\tlearn: 0.2315924\ttotal: 313ms\tremaining: 248ms\n",
      "558:\tlearn: 0.2314345\ttotal: 313ms\tremaining: 247ms\n",
      "559:\tlearn: 0.2311776\ttotal: 313ms\tremaining: 246ms\n",
      "560:\tlearn: 0.2311325\ttotal: 314ms\tremaining: 246ms\n",
      "561:\tlearn: 0.2310184\ttotal: 314ms\tremaining: 245ms\n",
      "562:\tlearn: 0.2308017\ttotal: 315ms\tremaining: 244ms\n",
      "563:\tlearn: 0.2306556\ttotal: 315ms\tremaining: 244ms\n",
      "564:\tlearn: 0.2306200\ttotal: 316ms\tremaining: 243ms\n",
      "565:\tlearn: 0.2304544\ttotal: 316ms\tremaining: 242ms\n",
      "566:\tlearn: 0.2304062\ttotal: 316ms\tremaining: 242ms\n",
      "567:\tlearn: 0.2302543\ttotal: 317ms\tremaining: 241ms\n",
      "568:\tlearn: 0.2302083\ttotal: 317ms\tremaining: 240ms\n",
      "569:\tlearn: 0.2300276\ttotal: 318ms\tremaining: 240ms\n",
      "570:\tlearn: 0.2298023\ttotal: 318ms\tremaining: 239ms\n",
      "571:\tlearn: 0.2296514\ttotal: 318ms\tremaining: 238ms\n",
      "572:\tlearn: 0.2294948\ttotal: 319ms\tremaining: 238ms\n",
      "573:\tlearn: 0.2293983\ttotal: 319ms\tremaining: 237ms\n",
      "574:\tlearn: 0.2292512\ttotal: 320ms\tremaining: 236ms\n",
      "575:\tlearn: 0.2289971\ttotal: 320ms\tremaining: 236ms\n",
      "576:\tlearn: 0.2287644\ttotal: 321ms\tremaining: 235ms\n",
      "577:\tlearn: 0.2284857\ttotal: 321ms\tremaining: 234ms\n",
      "578:\tlearn: 0.2283782\ttotal: 322ms\tremaining: 234ms\n",
      "579:\tlearn: 0.2281475\ttotal: 322ms\tremaining: 233ms\n",
      "580:\tlearn: 0.2278979\ttotal: 322ms\tremaining: 233ms\n",
      "581:\tlearn: 0.2278012\ttotal: 323ms\tremaining: 232ms\n",
      "582:\tlearn: 0.2275408\ttotal: 323ms\tremaining: 231ms\n",
      "583:\tlearn: 0.2274064\ttotal: 324ms\tremaining: 230ms\n",
      "584:\tlearn: 0.2271598\ttotal: 324ms\tremaining: 230ms\n",
      "585:\tlearn: 0.2270478\ttotal: 324ms\tremaining: 229ms\n",
      "586:\tlearn: 0.2268857\ttotal: 325ms\tremaining: 229ms\n",
      "587:\tlearn: 0.2267200\ttotal: 325ms\tremaining: 228ms\n",
      "588:\tlearn: 0.2265719\ttotal: 326ms\tremaining: 227ms\n",
      "589:\tlearn: 0.2263660\ttotal: 326ms\tremaining: 227ms\n",
      "590:\tlearn: 0.2263498\ttotal: 327ms\tremaining: 226ms\n",
      "591:\tlearn: 0.2261505\ttotal: 327ms\tremaining: 225ms\n",
      "592:\tlearn: 0.2257909\ttotal: 327ms\tremaining: 225ms\n",
      "593:\tlearn: 0.2257013\ttotal: 328ms\tremaining: 224ms\n",
      "594:\tlearn: 0.2255541\ttotal: 328ms\tremaining: 224ms\n",
      "595:\tlearn: 0.2254172\ttotal: 329ms\tremaining: 223ms\n",
      "596:\tlearn: 0.2252455\ttotal: 329ms\tremaining: 222ms\n",
      "597:\tlearn: 0.2250743\ttotal: 330ms\tremaining: 222ms\n",
      "598:\tlearn: 0.2249054\ttotal: 330ms\tremaining: 221ms\n",
      "599:\tlearn: 0.2247457\ttotal: 331ms\tremaining: 220ms\n",
      "600:\tlearn: 0.2246163\ttotal: 331ms\tremaining: 220ms\n",
      "601:\tlearn: 0.2245787\ttotal: 331ms\tremaining: 219ms\n",
      "602:\tlearn: 0.2244461\ttotal: 332ms\tremaining: 218ms\n",
      "603:\tlearn: 0.2243675\ttotal: 332ms\tremaining: 218ms\n",
      "604:\tlearn: 0.2242549\ttotal: 333ms\tremaining: 217ms\n",
      "605:\tlearn: 0.2241257\ttotal: 333ms\tremaining: 217ms\n",
      "606:\tlearn: 0.2239790\ttotal: 333ms\tremaining: 216ms\n",
      "607:\tlearn: 0.2238049\ttotal: 334ms\tremaining: 215ms\n",
      "608:\tlearn: 0.2236693\ttotal: 334ms\tremaining: 215ms\n",
      "609:\tlearn: 0.2236047\ttotal: 335ms\tremaining: 214ms\n",
      "610:\tlearn: 0.2234145\ttotal: 335ms\tremaining: 213ms\n",
      "611:\tlearn: 0.2233722\ttotal: 335ms\tremaining: 213ms\n",
      "612:\tlearn: 0.2231347\ttotal: 336ms\tremaining: 212ms\n",
      "613:\tlearn: 0.2229352\ttotal: 336ms\tremaining: 211ms\n",
      "614:\tlearn: 0.2227577\ttotal: 337ms\tremaining: 211ms\n",
      "615:\tlearn: 0.2225442\ttotal: 337ms\tremaining: 210ms\n",
      "616:\tlearn: 0.2224886\ttotal: 338ms\tremaining: 210ms\n",
      "617:\tlearn: 0.2222403\ttotal: 338ms\tremaining: 209ms\n",
      "618:\tlearn: 0.2221347\ttotal: 339ms\tremaining: 208ms\n",
      "619:\tlearn: 0.2219010\ttotal: 339ms\tremaining: 208ms\n",
      "620:\tlearn: 0.2216686\ttotal: 339ms\tremaining: 207ms\n",
      "621:\tlearn: 0.2214801\ttotal: 340ms\tremaining: 207ms\n",
      "622:\tlearn: 0.2214340\ttotal: 340ms\tremaining: 206ms\n",
      "623:\tlearn: 0.2213234\ttotal: 341ms\tremaining: 205ms\n",
      "624:\tlearn: 0.2212271\ttotal: 341ms\tremaining: 205ms\n",
      "625:\tlearn: 0.2210593\ttotal: 342ms\tremaining: 204ms\n",
      "626:\tlearn: 0.2208767\ttotal: 342ms\tremaining: 203ms\n",
      "627:\tlearn: 0.2206449\ttotal: 342ms\tremaining: 203ms\n",
      "628:\tlearn: 0.2206058\ttotal: 343ms\tremaining: 202ms\n",
      "629:\tlearn: 0.2203339\ttotal: 343ms\tremaining: 202ms\n",
      "630:\tlearn: 0.2200977\ttotal: 344ms\tremaining: 201ms\n",
      "631:\tlearn: 0.2198917\ttotal: 344ms\tremaining: 200ms\n",
      "632:\tlearn: 0.2197569\ttotal: 344ms\tremaining: 200ms\n",
      "633:\tlearn: 0.2196591\ttotal: 345ms\tremaining: 199ms\n",
      "634:\tlearn: 0.2196014\ttotal: 345ms\tremaining: 198ms\n",
      "635:\tlearn: 0.2194339\ttotal: 346ms\tremaining: 198ms\n",
      "636:\tlearn: 0.2190622\ttotal: 346ms\tremaining: 197ms\n",
      "637:\tlearn: 0.2189319\ttotal: 347ms\tremaining: 197ms\n",
      "638:\tlearn: 0.2187773\ttotal: 347ms\tremaining: 196ms\n",
      "639:\tlearn: 0.2187192\ttotal: 348ms\tremaining: 195ms\n",
      "640:\tlearn: 0.2186516\ttotal: 348ms\tremaining: 195ms\n",
      "641:\tlearn: 0.2184343\ttotal: 348ms\tremaining: 194ms\n",
      "642:\tlearn: 0.2181907\ttotal: 349ms\tremaining: 194ms\n",
      "643:\tlearn: 0.2180047\ttotal: 349ms\tremaining: 193ms\n",
      "644:\tlearn: 0.2178103\ttotal: 350ms\tremaining: 192ms\n",
      "645:\tlearn: 0.2175974\ttotal: 350ms\tremaining: 192ms\n",
      "646:\tlearn: 0.2172839\ttotal: 350ms\tremaining: 191ms\n",
      "647:\tlearn: 0.2170958\ttotal: 351ms\tremaining: 191ms\n",
      "648:\tlearn: 0.2170107\ttotal: 351ms\tremaining: 190ms\n",
      "649:\tlearn: 0.2168032\ttotal: 352ms\tremaining: 189ms\n",
      "650:\tlearn: 0.2166235\ttotal: 352ms\tremaining: 189ms\n",
      "651:\tlearn: 0.2164477\ttotal: 353ms\tremaining: 188ms\n",
      "652:\tlearn: 0.2162202\ttotal: 353ms\tremaining: 188ms\n",
      "653:\tlearn: 0.2160655\ttotal: 353ms\tremaining: 187ms\n",
      "654:\tlearn: 0.2159788\ttotal: 354ms\tremaining: 186ms\n",
      "655:\tlearn: 0.2157998\ttotal: 354ms\tremaining: 186ms\n",
      "656:\tlearn: 0.2156001\ttotal: 355ms\tremaining: 185ms\n",
      "657:\tlearn: 0.2154556\ttotal: 355ms\tremaining: 185ms\n",
      "658:\tlearn: 0.2152962\ttotal: 356ms\tremaining: 184ms\n",
      "659:\tlearn: 0.2150990\ttotal: 356ms\tremaining: 183ms\n",
      "660:\tlearn: 0.2149679\ttotal: 356ms\tremaining: 183ms\n",
      "661:\tlearn: 0.2148787\ttotal: 357ms\tremaining: 182ms\n",
      "662:\tlearn: 0.2147493\ttotal: 357ms\tremaining: 182ms\n",
      "663:\tlearn: 0.2145983\ttotal: 358ms\tremaining: 181ms\n",
      "664:\tlearn: 0.2143625\ttotal: 358ms\tremaining: 180ms\n",
      "665:\tlearn: 0.2140515\ttotal: 359ms\tremaining: 180ms\n",
      "666:\tlearn: 0.2138526\ttotal: 359ms\tremaining: 179ms\n",
      "667:\tlearn: 0.2136959\ttotal: 359ms\tremaining: 179ms\n",
      "668:\tlearn: 0.2135302\ttotal: 360ms\tremaining: 178ms\n",
      "669:\tlearn: 0.2133848\ttotal: 360ms\tremaining: 177ms\n",
      "670:\tlearn: 0.2132895\ttotal: 361ms\tremaining: 177ms\n",
      "671:\tlearn: 0.2131065\ttotal: 361ms\tremaining: 176ms\n",
      "672:\tlearn: 0.2128799\ttotal: 361ms\tremaining: 176ms\n",
      "673:\tlearn: 0.2126730\ttotal: 362ms\tremaining: 175ms\n",
      "674:\tlearn: 0.2124884\ttotal: 362ms\tremaining: 174ms\n",
      "675:\tlearn: 0.2124127\ttotal: 363ms\tremaining: 174ms\n",
      "676:\tlearn: 0.2123380\ttotal: 363ms\tremaining: 173ms\n",
      "677:\tlearn: 0.2122764\ttotal: 364ms\tremaining: 173ms\n",
      "678:\tlearn: 0.2121996\ttotal: 364ms\tremaining: 172ms\n"
     ]
    },
    {
     "name": "stdout",
     "output_type": "stream",
     "text": [
      "679:\tlearn: 0.2120638\ttotal: 365ms\tremaining: 172ms\n",
      "680:\tlearn: 0.2119356\ttotal: 365ms\tremaining: 171ms\n",
      "681:\tlearn: 0.2117943\ttotal: 366ms\tremaining: 171ms\n",
      "682:\tlearn: 0.2117562\ttotal: 366ms\tremaining: 170ms\n",
      "683:\tlearn: 0.2116724\ttotal: 366ms\tremaining: 169ms\n",
      "684:\tlearn: 0.2115850\ttotal: 367ms\tremaining: 169ms\n",
      "685:\tlearn: 0.2114602\ttotal: 367ms\tremaining: 168ms\n",
      "686:\tlearn: 0.2113049\ttotal: 368ms\tremaining: 168ms\n",
      "687:\tlearn: 0.2112996\ttotal: 368ms\tremaining: 167ms\n",
      "688:\tlearn: 0.2112121\ttotal: 368ms\tremaining: 166ms\n",
      "689:\tlearn: 0.2109727\ttotal: 369ms\tremaining: 166ms\n",
      "690:\tlearn: 0.2108061\ttotal: 369ms\tremaining: 165ms\n",
      "691:\tlearn: 0.2106540\ttotal: 370ms\tremaining: 165ms\n",
      "692:\tlearn: 0.2105739\ttotal: 370ms\tremaining: 164ms\n",
      "693:\tlearn: 0.2104431\ttotal: 371ms\tremaining: 163ms\n",
      "694:\tlearn: 0.2101887\ttotal: 371ms\tremaining: 163ms\n",
      "695:\tlearn: 0.2099818\ttotal: 371ms\tremaining: 162ms\n",
      "696:\tlearn: 0.2098980\ttotal: 372ms\tremaining: 162ms\n",
      "697:\tlearn: 0.2097275\ttotal: 372ms\tremaining: 161ms\n",
      "698:\tlearn: 0.2095717\ttotal: 373ms\tremaining: 161ms\n",
      "699:\tlearn: 0.2094561\ttotal: 373ms\tremaining: 160ms\n",
      "700:\tlearn: 0.2092134\ttotal: 374ms\tremaining: 160ms\n",
      "701:\tlearn: 0.2090624\ttotal: 374ms\tremaining: 159ms\n",
      "702:\tlearn: 0.2088356\ttotal: 375ms\tremaining: 158ms\n",
      "703:\tlearn: 0.2088161\ttotal: 375ms\tremaining: 158ms\n",
      "704:\tlearn: 0.2085501\ttotal: 376ms\tremaining: 157ms\n",
      "705:\tlearn: 0.2084030\ttotal: 377ms\tremaining: 157ms\n",
      "706:\tlearn: 0.2082045\ttotal: 377ms\tremaining: 156ms\n",
      "707:\tlearn: 0.2079096\ttotal: 378ms\tremaining: 156ms\n",
      "708:\tlearn: 0.2077463\ttotal: 378ms\tremaining: 155ms\n",
      "709:\tlearn: 0.2075489\ttotal: 379ms\tremaining: 155ms\n",
      "710:\tlearn: 0.2073625\ttotal: 379ms\tremaining: 154ms\n",
      "711:\tlearn: 0.2071890\ttotal: 380ms\tremaining: 154ms\n",
      "712:\tlearn: 0.2070646\ttotal: 380ms\tremaining: 153ms\n",
      "713:\tlearn: 0.2069153\ttotal: 381ms\tremaining: 153ms\n",
      "714:\tlearn: 0.2066572\ttotal: 382ms\tremaining: 152ms\n",
      "715:\tlearn: 0.2065319\ttotal: 382ms\tremaining: 152ms\n",
      "716:\tlearn: 0.2064950\ttotal: 383ms\tremaining: 151ms\n",
      "717:\tlearn: 0.2063189\ttotal: 383ms\tremaining: 150ms\n",
      "718:\tlearn: 0.2061800\ttotal: 384ms\tremaining: 150ms\n",
      "719:\tlearn: 0.2060550\ttotal: 384ms\tremaining: 149ms\n",
      "720:\tlearn: 0.2059047\ttotal: 385ms\tremaining: 149ms\n",
      "721:\tlearn: 0.2057315\ttotal: 385ms\tremaining: 148ms\n",
      "722:\tlearn: 0.2055527\ttotal: 386ms\tremaining: 148ms\n",
      "723:\tlearn: 0.2054698\ttotal: 386ms\tremaining: 147ms\n",
      "724:\tlearn: 0.2053972\ttotal: 386ms\tremaining: 147ms\n",
      "725:\tlearn: 0.2053335\ttotal: 387ms\tremaining: 146ms\n",
      "726:\tlearn: 0.2051450\ttotal: 387ms\tremaining: 145ms\n",
      "727:\tlearn: 0.2050762\ttotal: 388ms\tremaining: 145ms\n",
      "728:\tlearn: 0.2049732\ttotal: 388ms\tremaining: 144ms\n",
      "729:\tlearn: 0.2048758\ttotal: 389ms\tremaining: 144ms\n",
      "730:\tlearn: 0.2047908\ttotal: 389ms\tremaining: 143ms\n",
      "731:\tlearn: 0.2046746\ttotal: 390ms\tremaining: 143ms\n",
      "732:\tlearn: 0.2046086\ttotal: 390ms\tremaining: 142ms\n",
      "733:\tlearn: 0.2045260\ttotal: 391ms\tremaining: 142ms\n",
      "734:\tlearn: 0.2043166\ttotal: 391ms\tremaining: 141ms\n",
      "735:\tlearn: 0.2040382\ttotal: 391ms\tremaining: 140ms\n",
      "736:\tlearn: 0.2038445\ttotal: 392ms\tremaining: 140ms\n",
      "737:\tlearn: 0.2036748\ttotal: 392ms\tremaining: 139ms\n",
      "738:\tlearn: 0.2035530\ttotal: 393ms\tremaining: 139ms\n",
      "739:\tlearn: 0.2034646\ttotal: 393ms\tremaining: 138ms\n",
      "740:\tlearn: 0.2033111\ttotal: 394ms\tremaining: 138ms\n",
      "741:\tlearn: 0.2031678\ttotal: 394ms\tremaining: 137ms\n",
      "742:\tlearn: 0.2030623\ttotal: 394ms\tremaining: 136ms\n",
      "743:\tlearn: 0.2029689\ttotal: 395ms\tremaining: 136ms\n",
      "744:\tlearn: 0.2028774\ttotal: 395ms\tremaining: 135ms\n",
      "745:\tlearn: 0.2026920\ttotal: 396ms\tremaining: 135ms\n",
      "746:\tlearn: 0.2026519\ttotal: 396ms\tremaining: 134ms\n",
      "747:\tlearn: 0.2025790\ttotal: 397ms\tremaining: 134ms\n",
      "748:\tlearn: 0.2024482\ttotal: 397ms\tremaining: 133ms\n",
      "749:\tlearn: 0.2022363\ttotal: 398ms\tremaining: 133ms\n",
      "750:\tlearn: 0.2021277\ttotal: 398ms\tremaining: 132ms\n",
      "751:\tlearn: 0.2019486\ttotal: 399ms\tremaining: 131ms\n",
      "752:\tlearn: 0.2018805\ttotal: 399ms\tremaining: 131ms\n",
      "753:\tlearn: 0.2017291\ttotal: 400ms\tremaining: 130ms\n",
      "754:\tlearn: 0.2014796\ttotal: 400ms\tremaining: 130ms\n",
      "755:\tlearn: 0.2013478\ttotal: 400ms\tremaining: 129ms\n",
      "756:\tlearn: 0.2012452\ttotal: 401ms\tremaining: 129ms\n",
      "757:\tlearn: 0.2010701\ttotal: 401ms\tremaining: 128ms\n",
      "758:\tlearn: 0.2009772\ttotal: 402ms\tremaining: 128ms\n",
      "759:\tlearn: 0.2008644\ttotal: 402ms\tremaining: 127ms\n",
      "760:\tlearn: 0.2007284\ttotal: 403ms\tremaining: 126ms\n",
      "761:\tlearn: 0.2006290\ttotal: 403ms\tremaining: 126ms\n",
      "762:\tlearn: 0.2004818\ttotal: 403ms\tremaining: 125ms\n",
      "763:\tlearn: 0.2002077\ttotal: 404ms\tremaining: 125ms\n",
      "764:\tlearn: 0.2000974\ttotal: 405ms\tremaining: 124ms\n",
      "765:\tlearn: 0.2000468\ttotal: 405ms\tremaining: 124ms\n",
      "766:\tlearn: 0.1999919\ttotal: 406ms\tremaining: 123ms\n",
      "767:\tlearn: 0.1998816\ttotal: 406ms\tremaining: 123ms\n",
      "768:\tlearn: 0.1997166\ttotal: 407ms\tremaining: 122ms\n",
      "769:\tlearn: 0.1995768\ttotal: 407ms\tremaining: 122ms\n",
      "770:\tlearn: 0.1995009\ttotal: 408ms\tremaining: 121ms\n",
      "771:\tlearn: 0.1994033\ttotal: 408ms\tremaining: 121ms\n",
      "772:\tlearn: 0.1992728\ttotal: 409ms\tremaining: 120ms\n",
      "773:\tlearn: 0.1992159\ttotal: 409ms\tremaining: 119ms\n",
      "774:\tlearn: 0.1991533\ttotal: 410ms\tremaining: 119ms\n",
      "775:\tlearn: 0.1989200\ttotal: 410ms\tremaining: 118ms\n",
      "776:\tlearn: 0.1987705\ttotal: 411ms\tremaining: 118ms\n",
      "777:\tlearn: 0.1986626\ttotal: 411ms\tremaining: 117ms\n",
      "778:\tlearn: 0.1986266\ttotal: 412ms\tremaining: 117ms\n",
      "779:\tlearn: 0.1983584\ttotal: 412ms\tremaining: 116ms\n",
      "780:\tlearn: 0.1982129\ttotal: 413ms\tremaining: 116ms\n",
      "781:\tlearn: 0.1980465\ttotal: 413ms\tremaining: 115ms\n",
      "782:\tlearn: 0.1979072\ttotal: 414ms\tremaining: 115ms\n",
      "783:\tlearn: 0.1977703\ttotal: 414ms\tremaining: 114ms\n",
      "784:\tlearn: 0.1976853\ttotal: 414ms\tremaining: 113ms\n",
      "785:\tlearn: 0.1975736\ttotal: 415ms\tremaining: 113ms\n",
      "786:\tlearn: 0.1973689\ttotal: 415ms\tremaining: 112ms\n",
      "787:\tlearn: 0.1971196\ttotal: 416ms\tremaining: 112ms\n",
      "788:\tlearn: 0.1968911\ttotal: 416ms\tremaining: 111ms\n",
      "789:\tlearn: 0.1966886\ttotal: 417ms\tremaining: 111ms\n",
      "790:\tlearn: 0.1965099\ttotal: 417ms\tremaining: 110ms\n",
      "791:\tlearn: 0.1964156\ttotal: 418ms\tremaining: 110ms\n",
      "792:\tlearn: 0.1963574\ttotal: 418ms\tremaining: 109ms\n",
      "793:\tlearn: 0.1962036\ttotal: 419ms\tremaining: 109ms\n",
      "794:\tlearn: 0.1960365\ttotal: 419ms\tremaining: 108ms\n",
      "795:\tlearn: 0.1958801\ttotal: 420ms\tremaining: 108ms\n",
      "796:\tlearn: 0.1957579\ttotal: 420ms\tremaining: 107ms\n",
      "797:\tlearn: 0.1956292\ttotal: 421ms\tremaining: 107ms\n",
      "798:\tlearn: 0.1955280\ttotal: 421ms\tremaining: 106ms\n",
      "799:\tlearn: 0.1954904\ttotal: 422ms\tremaining: 105ms\n",
      "800:\tlearn: 0.1953826\ttotal: 422ms\tremaining: 105ms\n",
      "801:\tlearn: 0.1951967\ttotal: 423ms\tremaining: 104ms\n",
      "802:\tlearn: 0.1950427\ttotal: 423ms\tremaining: 104ms\n",
      "803:\tlearn: 0.1948682\ttotal: 424ms\tremaining: 103ms\n",
      "804:\tlearn: 0.1947226\ttotal: 424ms\tremaining: 103ms\n",
      "805:\tlearn: 0.1945062\ttotal: 425ms\tremaining: 102ms\n",
      "806:\tlearn: 0.1942900\ttotal: 425ms\tremaining: 102ms\n",
      "807:\tlearn: 0.1942033\ttotal: 426ms\tremaining: 101ms\n",
      "808:\tlearn: 0.1940805\ttotal: 426ms\tremaining: 101ms\n",
      "809:\tlearn: 0.1939423\ttotal: 427ms\tremaining: 100ms\n",
      "810:\tlearn: 0.1938264\ttotal: 427ms\tremaining: 99.6ms\n",
      "811:\tlearn: 0.1937092\ttotal: 428ms\tremaining: 99.1ms\n",
      "812:\tlearn: 0.1936336\ttotal: 428ms\tremaining: 98.6ms\n",
      "813:\tlearn: 0.1934899\ttotal: 429ms\tremaining: 98ms\n",
      "814:\tlearn: 0.1932702\ttotal: 429ms\tremaining: 97.5ms\n",
      "815:\tlearn: 0.1931312\ttotal: 430ms\tremaining: 96.9ms\n",
      "816:\tlearn: 0.1930646\ttotal: 430ms\tremaining: 96.4ms\n",
      "817:\tlearn: 0.1929577\ttotal: 431ms\tremaining: 95.9ms\n",
      "818:\tlearn: 0.1928298\ttotal: 431ms\tremaining: 95.3ms\n",
      "819:\tlearn: 0.1927819\ttotal: 432ms\tremaining: 94.8ms\n",
      "820:\tlearn: 0.1927462\ttotal: 432ms\tremaining: 94.3ms\n",
      "821:\tlearn: 0.1926914\ttotal: 433ms\tremaining: 93.7ms\n",
      "822:\tlearn: 0.1925424\ttotal: 433ms\tremaining: 93.2ms\n",
      "823:\tlearn: 0.1923896\ttotal: 434ms\tremaining: 92.7ms\n",
      "824:\tlearn: 0.1923328\ttotal: 434ms\tremaining: 92.1ms\n",
      "825:\tlearn: 0.1921835\ttotal: 435ms\tremaining: 91.6ms\n",
      "826:\tlearn: 0.1920454\ttotal: 435ms\tremaining: 91.1ms\n",
      "827:\tlearn: 0.1919545\ttotal: 436ms\tremaining: 90.5ms\n",
      "828:\tlearn: 0.1917579\ttotal: 436ms\tremaining: 90ms\n",
      "829:\tlearn: 0.1916392\ttotal: 437ms\tremaining: 89.5ms\n",
      "830:\tlearn: 0.1913154\ttotal: 437ms\tremaining: 89ms\n",
      "831:\tlearn: 0.1912575\ttotal: 438ms\tremaining: 88.4ms\n",
      "832:\tlearn: 0.1910258\ttotal: 438ms\tremaining: 87.9ms\n",
      "833:\tlearn: 0.1908778\ttotal: 439ms\tremaining: 87.3ms\n",
      "834:\tlearn: 0.1907913\ttotal: 439ms\tremaining: 86.8ms\n",
      "835:\tlearn: 0.1907521\ttotal: 440ms\tremaining: 86.3ms\n",
      "836:\tlearn: 0.1906904\ttotal: 441ms\tremaining: 85.8ms\n",
      "837:\tlearn: 0.1905429\ttotal: 441ms\tremaining: 85.3ms\n",
      "838:\tlearn: 0.1904150\ttotal: 442ms\tremaining: 84.8ms\n",
      "839:\tlearn: 0.1903595\ttotal: 442ms\tremaining: 84.2ms\n",
      "840:\tlearn: 0.1903069\ttotal: 443ms\tremaining: 83.7ms\n",
      "841:\tlearn: 0.1901973\ttotal: 443ms\tremaining: 83.1ms\n",
      "842:\tlearn: 0.1899651\ttotal: 444ms\tremaining: 82.6ms\n",
      "843:\tlearn: 0.1897143\ttotal: 444ms\tremaining: 82.1ms\n",
      "844:\tlearn: 0.1894722\ttotal: 445ms\tremaining: 81.5ms\n",
      "845:\tlearn: 0.1893199\ttotal: 445ms\tremaining: 81ms\n",
      "846:\tlearn: 0.1892162\ttotal: 445ms\tremaining: 80.5ms\n",
      "847:\tlearn: 0.1891158\ttotal: 446ms\tremaining: 79.9ms\n",
      "848:\tlearn: 0.1889286\ttotal: 446ms\tremaining: 79.4ms\n",
      "849:\tlearn: 0.1888704\ttotal: 447ms\tremaining: 78.9ms\n",
      "850:\tlearn: 0.1887931\ttotal: 447ms\tremaining: 78.3ms\n",
      "851:\tlearn: 0.1887246\ttotal: 448ms\tremaining: 77.8ms\n",
      "852:\tlearn: 0.1886128\ttotal: 448ms\tremaining: 77.3ms\n",
      "853:\tlearn: 0.1884606\ttotal: 449ms\tremaining: 76.7ms\n",
      "854:\tlearn: 0.1883598\ttotal: 449ms\tremaining: 76.2ms\n",
      "855:\tlearn: 0.1882693\ttotal: 450ms\tremaining: 75.7ms\n",
      "856:\tlearn: 0.1882487\ttotal: 450ms\tremaining: 75.1ms\n",
      "857:\tlearn: 0.1881825\ttotal: 451ms\tremaining: 74.6ms\n",
      "858:\tlearn: 0.1880980\ttotal: 451ms\tremaining: 74.1ms\n",
      "859:\tlearn: 0.1879355\ttotal: 452ms\tremaining: 73.5ms\n",
      "860:\tlearn: 0.1876419\ttotal: 452ms\tremaining: 73ms\n",
      "861:\tlearn: 0.1875840\ttotal: 453ms\tremaining: 72.5ms\n",
      "862:\tlearn: 0.1873929\ttotal: 453ms\tremaining: 71.9ms\n",
      "863:\tlearn: 0.1872544\ttotal: 454ms\tremaining: 71.4ms\n",
      "864:\tlearn: 0.1871325\ttotal: 454ms\tremaining: 70.9ms\n",
      "865:\tlearn: 0.1868679\ttotal: 455ms\tremaining: 70.3ms\n",
      "866:\tlearn: 0.1867194\ttotal: 455ms\tremaining: 69.8ms\n",
      "867:\tlearn: 0.1866790\ttotal: 456ms\tremaining: 69.3ms\n",
      "868:\tlearn: 0.1866132\ttotal: 456ms\tremaining: 68.7ms\n",
      "869:\tlearn: 0.1863416\ttotal: 456ms\tremaining: 68.2ms\n",
      "870:\tlearn: 0.1862272\ttotal: 457ms\tremaining: 67.7ms\n",
      "871:\tlearn: 0.1861710\ttotal: 457ms\tremaining: 67.1ms\n",
      "872:\tlearn: 0.1860522\ttotal: 458ms\tremaining: 66.6ms\n",
      "873:\tlearn: 0.1860346\ttotal: 458ms\tremaining: 66.1ms\n",
      "874:\tlearn: 0.1858312\ttotal: 459ms\tremaining: 65.5ms\n",
      "875:\tlearn: 0.1857858\ttotal: 459ms\tremaining: 65ms\n",
      "876:\tlearn: 0.1854857\ttotal: 460ms\tremaining: 64.5ms\n",
      "877:\tlearn: 0.1852980\ttotal: 461ms\tremaining: 64ms\n",
      "878:\tlearn: 0.1851913\ttotal: 461ms\tremaining: 63.5ms\n",
      "879:\tlearn: 0.1851233\ttotal: 461ms\tremaining: 62.9ms\n",
      "880:\tlearn: 0.1850174\ttotal: 462ms\tremaining: 62.4ms\n",
      "881:\tlearn: 0.1848127\ttotal: 462ms\tremaining: 61.9ms\n",
      "882:\tlearn: 0.1847502\ttotal: 463ms\tremaining: 61.3ms\n",
      "883:\tlearn: 0.1845759\ttotal: 463ms\tremaining: 60.8ms\n",
      "884:\tlearn: 0.1844930\ttotal: 463ms\tremaining: 60.2ms\n",
      "885:\tlearn: 0.1842792\ttotal: 464ms\tremaining: 59.7ms\n",
      "886:\tlearn: 0.1841520\ttotal: 465ms\tremaining: 59.2ms\n",
      "887:\tlearn: 0.1841027\ttotal: 465ms\tremaining: 58.6ms\n",
      "888:\tlearn: 0.1839561\ttotal: 465ms\tremaining: 58.1ms\n",
      "889:\tlearn: 0.1838527\ttotal: 466ms\tremaining: 57.6ms\n",
      "890:\tlearn: 0.1837527\ttotal: 466ms\tremaining: 57ms\n",
      "891:\tlearn: 0.1835685\ttotal: 467ms\tremaining: 56.5ms\n",
      "892:\tlearn: 0.1835314\ttotal: 467ms\tremaining: 56ms\n",
      "893:\tlearn: 0.1834913\ttotal: 467ms\tremaining: 55.4ms\n",
      "894:\tlearn: 0.1834203\ttotal: 468ms\tremaining: 54.9ms\n",
      "895:\tlearn: 0.1832517\ttotal: 468ms\tremaining: 54.4ms\n",
      "896:\tlearn: 0.1830982\ttotal: 469ms\tremaining: 53.8ms\n",
      "897:\tlearn: 0.1829737\ttotal: 469ms\tremaining: 53.3ms\n",
      "898:\tlearn: 0.1828852\ttotal: 470ms\tremaining: 52.8ms\n",
      "899:\tlearn: 0.1828376\ttotal: 470ms\tremaining: 52.2ms\n",
      "900:\tlearn: 0.1826938\ttotal: 471ms\tremaining: 51.7ms\n",
      "901:\tlearn: 0.1826524\ttotal: 471ms\tremaining: 51.2ms\n",
      "902:\tlearn: 0.1825793\ttotal: 472ms\tremaining: 50.7ms\n",
      "903:\tlearn: 0.1824873\ttotal: 472ms\tremaining: 50.1ms\n",
      "904:\tlearn: 0.1823567\ttotal: 472ms\tremaining: 49.6ms\n",
      "905:\tlearn: 0.1821261\ttotal: 473ms\tremaining: 49.1ms\n",
      "906:\tlearn: 0.1819815\ttotal: 473ms\tremaining: 48.5ms\n",
      "907:\tlearn: 0.1818183\ttotal: 474ms\tremaining: 48ms\n",
      "908:\tlearn: 0.1816805\ttotal: 474ms\tremaining: 47.5ms\n",
      "909:\tlearn: 0.1815761\ttotal: 475ms\tremaining: 47ms\n",
      "910:\tlearn: 0.1815229\ttotal: 475ms\tremaining: 46.4ms\n",
      "911:\tlearn: 0.1814111\ttotal: 476ms\tremaining: 45.9ms\n",
      "912:\tlearn: 0.1813699\ttotal: 476ms\tremaining: 45.4ms\n",
      "913:\tlearn: 0.1812117\ttotal: 476ms\tremaining: 44.8ms\n",
      "914:\tlearn: 0.1810355\ttotal: 477ms\tremaining: 44.3ms\n",
      "915:\tlearn: 0.1808954\ttotal: 477ms\tremaining: 43.8ms\n",
      "916:\tlearn: 0.1807833\ttotal: 478ms\tremaining: 43.2ms\n",
      "917:\tlearn: 0.1806480\ttotal: 478ms\tremaining: 42.7ms\n",
      "918:\tlearn: 0.1805970\ttotal: 479ms\tremaining: 42.2ms\n",
      "919:\tlearn: 0.1804612\ttotal: 479ms\tremaining: 41.7ms\n",
      "920:\tlearn: 0.1804151\ttotal: 480ms\tremaining: 41.1ms\n",
      "921:\tlearn: 0.1802746\ttotal: 480ms\tremaining: 40.6ms\n",
      "922:\tlearn: 0.1799896\ttotal: 481ms\tremaining: 40.1ms\n",
      "923:\tlearn: 0.1798776\ttotal: 481ms\tremaining: 39.6ms\n",
      "924:\tlearn: 0.1797581\ttotal: 481ms\tremaining: 39ms\n",
      "925:\tlearn: 0.1797163\ttotal: 482ms\tremaining: 38.5ms\n",
      "926:\tlearn: 0.1795805\ttotal: 482ms\tremaining: 38ms\n",
      "927:\tlearn: 0.1793650\ttotal: 483ms\tremaining: 37.5ms\n",
      "928:\tlearn: 0.1791945\ttotal: 483ms\tremaining: 36.9ms\n",
      "929:\tlearn: 0.1790968\ttotal: 484ms\tremaining: 36.4ms\n",
      "930:\tlearn: 0.1789815\ttotal: 484ms\tremaining: 35.9ms\n",
      "931:\tlearn: 0.1788011\ttotal: 485ms\tremaining: 35.4ms\n",
      "932:\tlearn: 0.1786919\ttotal: 485ms\tremaining: 34.8ms\n",
      "933:\tlearn: 0.1785924\ttotal: 486ms\tremaining: 34.3ms\n",
      "934:\tlearn: 0.1784227\ttotal: 486ms\tremaining: 33.8ms\n",
      "935:\tlearn: 0.1782890\ttotal: 486ms\tremaining: 33.3ms\n",
      "936:\tlearn: 0.1781824\ttotal: 487ms\tremaining: 32.7ms\n",
      "937:\tlearn: 0.1779900\ttotal: 487ms\tremaining: 32.2ms\n",
      "938:\tlearn: 0.1779356\ttotal: 488ms\tremaining: 31.7ms\n",
      "939:\tlearn: 0.1778927\ttotal: 488ms\tremaining: 31.2ms\n",
      "940:\tlearn: 0.1776633\ttotal: 489ms\tremaining: 30.6ms\n",
      "941:\tlearn: 0.1775366\ttotal: 489ms\tremaining: 30.1ms\n",
      "942:\tlearn: 0.1773899\ttotal: 490ms\tremaining: 29.6ms\n",
      "943:\tlearn: 0.1772207\ttotal: 490ms\tremaining: 29.1ms\n",
      "944:\tlearn: 0.1771982\ttotal: 490ms\tremaining: 28.5ms\n",
      "945:\tlearn: 0.1769366\ttotal: 491ms\tremaining: 28ms\n",
      "946:\tlearn: 0.1768368\ttotal: 491ms\tremaining: 27.5ms\n",
      "947:\tlearn: 0.1767785\ttotal: 493ms\tremaining: 27ms\n",
      "948:\tlearn: 0.1766108\ttotal: 493ms\tremaining: 26.5ms\n",
      "949:\tlearn: 0.1764959\ttotal: 494ms\tremaining: 26ms\n",
      "950:\tlearn: 0.1763145\ttotal: 494ms\tremaining: 25.5ms\n",
      "951:\tlearn: 0.1762602\ttotal: 495ms\tremaining: 24.9ms\n",
      "952:\tlearn: 0.1760318\ttotal: 495ms\tremaining: 24.4ms\n",
      "953:\tlearn: 0.1760190\ttotal: 495ms\tremaining: 23.9ms\n",
      "954:\tlearn: 0.1758766\ttotal: 496ms\tremaining: 23.4ms\n",
      "955:\tlearn: 0.1757080\ttotal: 496ms\tremaining: 22.8ms\n",
      "956:\tlearn: 0.1755239\ttotal: 497ms\tremaining: 22.3ms\n",
      "957:\tlearn: 0.1754182\ttotal: 497ms\tremaining: 21.8ms\n",
      "958:\tlearn: 0.1752608\ttotal: 497ms\tremaining: 21.3ms\n",
      "959:\tlearn: 0.1750616\ttotal: 498ms\tremaining: 20.7ms\n",
      "960:\tlearn: 0.1750055\ttotal: 498ms\tremaining: 20.2ms\n",
      "961:\tlearn: 0.1748323\ttotal: 499ms\tremaining: 19.7ms\n",
      "962:\tlearn: 0.1747779\ttotal: 499ms\tremaining: 19.2ms\n",
      "963:\tlearn: 0.1745737\ttotal: 500ms\tremaining: 18.7ms\n",
      "964:\tlearn: 0.1744757\ttotal: 500ms\tremaining: 18.1ms\n",
      "965:\tlearn: 0.1743005\ttotal: 501ms\tremaining: 17.6ms\n",
      "966:\tlearn: 0.1742076\ttotal: 501ms\tremaining: 17.1ms\n",
      "967:\tlearn: 0.1741481\ttotal: 502ms\tremaining: 16.6ms\n",
      "968:\tlearn: 0.1739991\ttotal: 502ms\tremaining: 16.1ms\n",
      "969:\tlearn: 0.1738766\ttotal: 502ms\tremaining: 15.5ms\n",
      "970:\tlearn: 0.1737959\ttotal: 503ms\tremaining: 15ms\n",
      "971:\tlearn: 0.1736972\ttotal: 503ms\tremaining: 14.5ms\n",
      "972:\tlearn: 0.1736910\ttotal: 504ms\tremaining: 14ms\n",
      "973:\tlearn: 0.1735890\ttotal: 504ms\tremaining: 13.5ms\n",
      "974:\tlearn: 0.1734432\ttotal: 505ms\tremaining: 12.9ms\n",
      "975:\tlearn: 0.1733309\ttotal: 505ms\tremaining: 12.4ms\n",
      "976:\tlearn: 0.1731313\ttotal: 506ms\tremaining: 11.9ms\n",
      "977:\tlearn: 0.1729680\ttotal: 506ms\tremaining: 11.4ms\n",
      "978:\tlearn: 0.1727629\ttotal: 507ms\tremaining: 10.9ms\n",
      "979:\tlearn: 0.1727329\ttotal: 507ms\tremaining: 10.3ms\n",
      "980:\tlearn: 0.1725496\ttotal: 508ms\tremaining: 9.83ms\n",
      "981:\tlearn: 0.1724119\ttotal: 508ms\tremaining: 9.31ms\n",
      "982:\tlearn: 0.1723111\ttotal: 508ms\tremaining: 8.79ms\n",
      "983:\tlearn: 0.1722146\ttotal: 509ms\tremaining: 8.28ms\n",
      "984:\tlearn: 0.1720552\ttotal: 509ms\tremaining: 7.76ms\n",
      "985:\tlearn: 0.1719411\ttotal: 510ms\tremaining: 7.24ms\n",
      "986:\tlearn: 0.1718156\ttotal: 510ms\tremaining: 6.72ms\n",
      "987:\tlearn: 0.1717144\ttotal: 511ms\tremaining: 6.21ms\n",
      "988:\tlearn: 0.1716544\ttotal: 511ms\tremaining: 5.69ms\n",
      "989:\tlearn: 0.1715792\ttotal: 512ms\tremaining: 5.17ms\n",
      "990:\tlearn: 0.1714821\ttotal: 512ms\tremaining: 4.65ms\n",
      "991:\tlearn: 0.1712861\ttotal: 513ms\tremaining: 4.13ms\n",
      "992:\tlearn: 0.1711375\ttotal: 513ms\tremaining: 3.62ms\n",
      "993:\tlearn: 0.1710614\ttotal: 514ms\tremaining: 3.1ms\n",
      "994:\tlearn: 0.1710434\ttotal: 514ms\tremaining: 2.58ms\n",
      "995:\tlearn: 0.1709152\ttotal: 514ms\tremaining: 2.06ms\n",
      "996:\tlearn: 0.1708364\ttotal: 515ms\tremaining: 1.55ms\n",
      "997:\tlearn: 0.1707083\ttotal: 515ms\tremaining: 1.03ms\n",
      "998:\tlearn: 0.1704828\ttotal: 516ms\tremaining: 516us\n",
      "999:\tlearn: 0.1704564\ttotal: 516ms\tremaining: 0us\n"
     ]
    },
    {
     "data": {
      "text/plain": [
       "<catboost.core.CatBoostClassifier at 0x7f90a0668d00>"
      ]
     },
     "execution_count": 53,
     "metadata": {},
     "output_type": "execute_result"
    }
   ],
   "source": [
    "from catboost import CatBoostClassifier\n",
    "classifier = CatBoostClassifier()\n",
    "classifier.fit(x_train, y_train)"
   ]
  },
  {
   "cell_type": "code",
   "execution_count": 54,
   "metadata": {},
   "outputs": [],
   "source": [
    "y_pred = classifier.predict(x_test)\n",
    "ac = accuracy_score(y_test, y_pred)\n",
    "accuracy_list.append(100*ac)"
   ]
  },
  {
   "cell_type": "code",
   "execution_count": 55,
   "metadata": {},
   "outputs": [
    {
     "name": "stdout",
     "output_type": "stream",
     "text": [
      "91.66666666666666 %\n"
     ]
    }
   ],
   "source": [
    "print(ac*100,\"%\")"
   ]
  },
  {
   "cell_type": "code",
   "execution_count": 56,
   "metadata": {},
   "outputs": [
    {
     "name": "stdout",
     "output_type": "stream",
     "text": [
      "              precision    recall  f1-score   support\n",
      "\n",
      "           0       0.93      0.95      0.94        43\n",
      "           1       0.88      0.82      0.85        17\n",
      "\n",
      "    accuracy                           0.92        60\n",
      "   macro avg       0.90      0.89      0.90        60\n",
      "weighted avg       0.92      0.92      0.92        60\n",
      "\n"
     ]
    }
   ],
   "source": [
    "print(classification_report(y_test, y_pred))"
   ]
  },
  {
   "cell_type": "code",
   "execution_count": 57,
   "metadata": {},
   "outputs": [
    {
     "data": {
      "text/plain": [
       "<AxesSubplot:>"
      ]
     },
     "execution_count": 57,
     "metadata": {},
     "output_type": "execute_result"
    },
    {
     "data": {
      "image/png": "[encoded data removed]",
      "text/plain": [
       "<Figure size 432x288 with 2 Axes>"
      ]
     },
     "metadata": {
      "needs_background": "light"
     },
     "output_type": "display_data"
    }
   ],
   "source": [
    "sn.heatmap(confusion_matrix(y_test,y_pred),annot=True, cmap='binary',center=0)"
   ]
  },
  {
   "cell_type": "code",
   "execution_count": 66,
   "metadata": {},
   "outputs": [
    {
     "data": {
      "image/png": "[encoded data removed]",
      "text/plain": [
       "<Figure size 432x288 with 1 Axes>"
      ]
     },
     "metadata": {
      "needs_background": "light"
     },
     "output_type": "display_data"
    }
   ],
   "source": [
    "objects = ('tree', 'Logistic Regression', 'KNeighborsClassifier', 'Sequential', 'kot')\n",
    "y_pos = np.arange(len(objects))\n",
    "performance = accuracy_list\n",
    "\n",
    "plt.bar(y_pos, performance, align='center', alpha=0.5)\n",
    "plt.xticks(y_pos, objects,rotation=45)\n",
    "plt.ylabel('score %')\n",
    "plt.title('results')\n",
    "\n",
    "plt.show()"
   ]
  },
  {
   "cell_type": "code",
   "execution_count": null,
   "metadata": {},
   "outputs": [],
   "source": []
  },
  {
   "cell_type": "code",
   "execution_count": null,
   "metadata": {},
   "outputs": [],
   "source": []
  },
  {
   "cell_type": "code",
   "execution_count": null,
   "metadata": {},
   "outputs": [],
   "source": []
  },
  {
   "cell_type": "code",
   "execution_count": null,
   "metadata": {},
   "outputs": [],
   "source": [
    "\n",
    "        "
   ]
  },
  {
   "cell_type": "code",
   "execution_count": null,
   "metadata": {},
   "outputs": [],
   "source": []
  },
  {
   "cell_type": "code",
   "execution_count": null,
   "metadata": {},
   "outputs": [],
   "source": []
  }
 ],
 "metadata": {
  "kernelspec": {
   "display_name": "Python 3",
   "language": "python",
   "name": "python3"
  },
  "language_info": {
   "codemirror_mode": {
    "name": "ipython",
    "version": 3
   },
   "file_extension": ".py",
   "mimetype": "text/x-python",
   "name": "python",
   "nbconvert_exporter": "python",
   "pygments_lexer": "ipython3",
   "version": "3.8.5"
  }
 },
 "nbformat": 4,
 "nbformat_minor": 4
}
